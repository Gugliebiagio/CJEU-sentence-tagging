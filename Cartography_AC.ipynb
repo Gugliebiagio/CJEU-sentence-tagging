{
  "cells": [
    {
      "cell_type": "markdown",
      "metadata": {
        "id": "W2_9ZkjgCtpy"
      },
      "source": [
        "\n",
        "# Title\n",
        "description"
      ]
    },
    {
      "cell_type": "markdown",
      "metadata": {
        "id": "IUpo4SYbCtp1"
      },
      "source": [
        "## Section 0 - imports, constants, and notebook set-up"
      ]
    },
    {
      "cell_type": "code",
      "execution_count": 1,
      "metadata": {
        "id": "PjeFs-FICtp2"
      },
      "outputs": [
        {
          "name": "stderr",
          "output_type": "stream",
          "text": [
            "[nltk_data] Downloading package stopwords to\n",
            "[nltk_data]     /Users/angelo/nltk_data...\n",
            "[nltk_data]   Package stopwords is already up-to-date!\n",
            "[nltk_data] Downloading package punkt to /Users/angelo/nltk_data...\n",
            "[nltk_data]   Package punkt is already up-to-date!\n",
            "[nltk_data] Downloading package averaged_perceptron_tagger to\n",
            "[nltk_data]     /Users/angelo/nltk_data...\n",
            "[nltk_data]   Package averaged_perceptron_tagger is already up-to-\n",
            "[nltk_data]       date!\n",
            "[nltk_data] Downloading package wordnet to /Users/angelo/nltk_data...\n",
            "[nltk_data]   Package wordnet is already up-to-date!\n",
            "[nltk_data] Downloading package omw-1.4 to /Users/angelo/nltk_data...\n",
            "[nltk_data]   Package omw-1.4 is already up-to-date!\n"
          ]
        }
      ],
      "source": [
        "# Library imports\n",
        "### Utility\n",
        "import os\n",
        "from pathlib import Path\n",
        "from utils import download_dataset, extract_dataset, compute_metrics, trainer_AC, evaluation_run, plot_data_map, Sentences_Dataset, hard_to_learn, cleanline, synonyms, mostsimilar\n",
        "import urllib\n",
        "import zipfile\n",
        "import re\n",
        "\n",
        "### Datascience\n",
        "import pandas as pd\n",
        "from transformers import AutoModelForSequenceClassification, AutoTokenizer\n",
        "import torch\n",
        "from torch.utils.data import Dataset, DataLoader\n",
        "import numpy as np\n",
        "from sklearn.metrics import classification_report\n",
        "from sklearn.model_selection import train_test_split\n",
        "import nltk\n",
        "from nltk.corpus import stopwords\n",
        "\n",
        "### Plotting\n",
        "import matplotlib.pyplot as plt\n",
        "\n",
        "# Nltk download\n",
        "nltk.download('stopwords')\n",
        "nltk.download('punkt')\n",
        "nltk.download('averaged_perceptron_tagger')\n",
        "nltk.download('wordnet')\n",
        "nltk.download('omw-1.4')\n",
        "stop_words = set(stopwords.words('english'))"
      ]
    },
    {
      "cell_type": "code",
      "execution_count": 2,
      "metadata": {
        "id": "z_1sdNkHCtp4"
      },
      "outputs": [],
      "source": [
        "# Set of constant used, you can choose which to use below\n",
        "SEEDS = [42, 69, 420, 42069, 69420]\n",
        "CARD_DICT = {\"sentence\":\"sentence-transformers/bert-base-nli-mean-tokens\",\n",
        "             \"legal\":\"nlpaueb/legal-bert-small-uncased\",\n",
        "             \"tiny\":\"prajjwal1/bert-tiny\"\n",
        "            }"
      ]
    },
    {
      "cell_type": "code",
      "execution_count": 3,
      "metadata": {
        "id": "uYIk3tTqCtp4"
      },
      "outputs": [],
      "source": [
        "# Constant setting --- you can change these\n",
        "SEED_IDX = 0\n",
        "CARD_KEY = \"tiny\"\n",
        "MAX_LEN = 128\n",
        "TRAIN_BATCH_SIZE = 128\n",
        "EPOCHS = 30\n",
        "LEARNING_RATE = 2e-4"
      ]
    },
    {
      "cell_type": "code",
      "execution_count": 4,
      "metadata": {
        "id": "llGns09_Ctp5"
      },
      "outputs": [],
      "source": [
        "# Constant derivation settings --- DO NOT TOUCH\n",
        "SEED = SEEDS[SEED_IDX]\n",
        "CARD = CARD_DICT.get(CARD_KEY, \"nlpaueb/legal-bert-small-uncased\")\n",
        "torch.manual_seed(SEED)\n",
        "np.random.seed(SEED);"
      ]
    },
    {
      "cell_type": "markdown",
      "metadata": {
        "id": "WcjChx2PCtp5"
      },
      "source": [
        "## Section 1 - Dataset(s) import & manipulation"
      ]
    },
    {
      "cell_type": "markdown",
      "metadata": {},
      "source": [
        "### 1.1 - Glove Download"
      ]
    },
    {
      "cell_type": "code",
      "execution_count": 5,
      "metadata": {},
      "outputs": [
        {
          "name": "stdout",
          "output_type": "stream",
          "text": [
            "GloVe embeddings downloaded and extracted.\n"
          ]
        }
      ],
      "source": [
        "# GloVe embedding download\n",
        "glove_url = \"https://nlp.stanford.edu/data/glove.6B.zip\"\n",
        "glove_dir = \"glove.6B\"\n",
        "if not os.path.isdir(os.path.join(os.getcwd(), glove_dir)):\n",
        "    urllib.request.urlretrieve(glove_url, \"glove.6B.zip\")\n",
        "    with zipfile.ZipFile(\"glove.6B.zip\", \"r\") as zip_ref:\n",
        "        zip_ref.extractall(\"glove.6B\")\n",
        "\n",
        "    os.remove(\"glove.6B.zip\")\n",
        "\n",
        "print(\"GloVe embeddings downloaded and extracted.\")\n",
        "\n",
        "embeddings = {}\n",
        "\n",
        "for file_name in os.listdir(glove_dir):\n",
        "    file_path = os.path.join(glove_dir, file_name)\n",
        "\n",
        "    with open(file_path, 'r', encoding=\"utf8\") as f_glove:\n",
        "        for line in f_glove:\n",
        "            entries = line.split()\n",
        "            wordvector = np.asarray(entries[1:], \"float32\")\n",
        "            embeddings[entries[0]] = wordvector"
      ]
    },
    {
      "cell_type": "markdown",
      "metadata": {
        "id": "mOiCjqBrCtp5"
      },
      "source": [
        "### 1.2 - Import of demosthenes library"
      ]
    },
    {
      "cell_type": "code",
      "execution_count": 6,
      "metadata": {},
      "outputs": [],
      "source": [
        "url = \"https://github.com/engibengi/demosthenes/archive/main.zip\"\n",
        "\n",
        "dataset_name = \"demosthenes-main\"\n",
        "\n",
        "dataset_zip_path = Path.cwd().joinpath(\"demosthenes-main.zip\")\n",
        "dataset_path = Path.cwd().joinpath(dataset_name)\n",
        "\n",
        "if not dataset_zip_path.exists():\n",
        "    download_dataset(dataset_zip_path, url)\n",
        "\n",
        "if not dataset_path.exists():\n",
        "    extract_dataset(dataset_zip_path, Path.cwd())\n"
      ]
    },
    {
      "cell_type": "markdown",
      "metadata": {},
      "source": [
        "### 1.3 - Conversion of xml to json & creation of .pkl datasets"
      ]
    },
    {
      "cell_type": "code",
      "execution_count": 7,
      "metadata": {},
      "outputs": [],
      "source": [
        "%%capture\n",
        "%cd ./$dataset_name\n",
        "%run ./xmlToJson.py # Transform xml dataset into a json one using the dataset utilities\n",
        "%run ./create_df.py # Create .pkl dataframe from dataset\n",
        "%cd ./.."
      ]
    },
    {
      "cell_type": "markdown",
      "metadata": {
        "id": "cHhKlWA9Ctp6"
      },
      "source": [
        "### 1.4 - import of .pkl datasets"
      ]
    },
    {
      "cell_type": "code",
      "execution_count": 8,
      "metadata": {
        "id": "U332fy65Ctp6"
      },
      "outputs": [],
      "source": [
        "# annotations = pd.read_pickle(os.path.join(Path.cwd(), dataset_name, 'df_annotations.pkl'))\n",
        "sentences = pd.read_pickle(os.path.join(Path.cwd(), dataset_name, 'df_sentences.pkl'))"
      ]
    },
    {
      "cell_type": "markdown",
      "metadata": {},
      "source": [
        "### 1.5 - remove non argumentative sentences"
      ]
    },
    {
      "cell_type": "code",
      "execution_count": 9,
      "metadata": {},
      "outputs": [],
      "source": [
        "sentences = sentences[sentences['Name'] != 'void']"
      ]
    },
    {
      "cell_type": "markdown",
      "metadata": {},
      "source": [
        "### 1.6 - Creation of classes and labels in dataframe"
      ]
    },
    {
      "cell_type": "code",
      "execution_count": 10,
      "metadata": {
        "id": "CnLMEQcwCtp7"
      },
      "outputs": [],
      "source": [
        "labels = sentences.Name.unique()\n",
        "one_hot = pd.get_dummies(sentences['Name']).astype(float)\n",
        "sentences.drop(columns=['Name'])\n",
        "sentences = sentences.join(one_hot)\n",
        "(sentences, s_test) = train_test_split(sentences)\n",
        "sentences.reset_index(inplace=True)\n",
        "s_test.reset_index(inplace=True)"
      ]
    },
    {
      "cell_type": "markdown",
      "metadata": {
        "id": "A_t27mgrCtp8"
      },
      "source": [
        "## Section 2 - Model(s) import & set-up"
      ]
    },
    {
      "cell_type": "code",
      "execution_count": 11,
      "metadata": {
        "colab": {
          "base_uri": "https://localhost:8080/"
        },
        "id": "kDz36PajCtp8",
        "outputId": "c185a5b3-84a9-4381-e3cb-afa47a467df8"
      },
      "outputs": [
        {
          "name": "stderr",
          "output_type": "stream",
          "text": [
            "Some weights of BertForSequenceClassification were not initialized from the model checkpoint at prajjwal1/bert-tiny and are newly initialized: ['classifier.weight', 'classifier.bias']\n",
            "You should probably TRAIN this model on a down-stream task to be able to use it for predictions and inference.\n"
          ]
        }
      ],
      "source": [
        "tokenizer = AutoTokenizer.from_pretrained(CARD)\n",
        "model = AutoModelForSequenceClassification.from_pretrained(CARD, num_labels = len(labels), problem_type='multi_label_classification')\n",
        "for param in model.bert.embeddings.parameters():\n",
        "    param.requires_grad = False\n",
        "for param in model.bert.encoder.parameters():\n",
        "    param.requires_grad = False\n",
        "optimizer = torch.optim.AdamW(model.parameters(), lr=LEARNING_RATE, weight_decay=1e-5)\n",
        "optimizer.zero_grad()\n",
        "loss_fn = torch.nn.BCEWithLogitsLoss()"
      ]
    },
    {
      "cell_type": "markdown",
      "metadata": {
        "id": "dIpX1sE8Ctp9"
      },
      "source": [
        "## Section 3 - Model(s) training"
      ]
    },
    {
      "cell_type": "code",
      "execution_count": 12,
      "metadata": {
        "id": "Zb-zIasDCtp9"
      },
      "outputs": [],
      "source": [
        "dataset = Sentences_Dataset(sentences, tokenizer, labels, max_len=MAX_LEN)\n",
        "test_dataset = Sentences_Dataset(s_test, tokenizer, labels, max_len=MAX_LEN)\n",
        "loader = DataLoader(dataset, batch_size=TRAIN_BATCH_SIZE, shuffle=True, pin_memory=True)\n",
        "test_loader = DataLoader(test_dataset, batch_size=TRAIN_BATCH_SIZE, shuffle=False, pin_memory=True)"
      ]
    },
    {
      "cell_type": "code",
      "execution_count": 13,
      "metadata": {
        "colab": {
          "base_uri": "https://localhost:8080/"
        },
        "id": "m148jDOBCtp9",
        "outputId": "f7ae337e-b970-481c-9ebf-ae3bbc87a457"
      },
      "outputs": [
        {
          "data": {
            "text/plain": [
              "BertForSequenceClassification(\n",
              "  (bert): BertModel(\n",
              "    (embeddings): BertEmbeddings(\n",
              "      (word_embeddings): Embedding(30522, 128, padding_idx=0)\n",
              "      (position_embeddings): Embedding(512, 128)\n",
              "      (token_type_embeddings): Embedding(2, 128)\n",
              "      (LayerNorm): LayerNorm((128,), eps=1e-12, elementwise_affine=True)\n",
              "      (dropout): Dropout(p=0.1, inplace=False)\n",
              "    )\n",
              "    (encoder): BertEncoder(\n",
              "      (layer): ModuleList(\n",
              "        (0-1): 2 x BertLayer(\n",
              "          (attention): BertAttention(\n",
              "            (self): BertSelfAttention(\n",
              "              (query): Linear(in_features=128, out_features=128, bias=True)\n",
              "              (key): Linear(in_features=128, out_features=128, bias=True)\n",
              "              (value): Linear(in_features=128, out_features=128, bias=True)\n",
              "              (dropout): Dropout(p=0.1, inplace=False)\n",
              "            )\n",
              "            (output): BertSelfOutput(\n",
              "              (dense): Linear(in_features=128, out_features=128, bias=True)\n",
              "              (LayerNorm): LayerNorm((128,), eps=1e-12, elementwise_affine=True)\n",
              "              (dropout): Dropout(p=0.1, inplace=False)\n",
              "            )\n",
              "          )\n",
              "          (intermediate): BertIntermediate(\n",
              "            (dense): Linear(in_features=128, out_features=512, bias=True)\n",
              "            (intermediate_act_fn): GELUActivation()\n",
              "          )\n",
              "          (output): BertOutput(\n",
              "            (dense): Linear(in_features=512, out_features=128, bias=True)\n",
              "            (LayerNorm): LayerNorm((128,), eps=1e-12, elementwise_affine=True)\n",
              "            (dropout): Dropout(p=0.1, inplace=False)\n",
              "          )\n",
              "        )\n",
              "      )\n",
              "    )\n",
              "    (pooler): BertPooler(\n",
              "      (dense): Linear(in_features=128, out_features=128, bias=True)\n",
              "      (activation): Tanh()\n",
              "    )\n",
              "  )\n",
              "  (dropout): Dropout(p=0.1, inplace=False)\n",
              "  (classifier): Linear(in_features=128, out_features=2, bias=True)\n",
              ")"
            ]
          },
          "execution_count": 13,
          "metadata": {},
          "output_type": "execute_result"
        }
      ],
      "source": [
        "device = torch.device('cuda') if torch.cuda.is_available() else torch.device('cpu')\n",
        "model.to(device)"
      ]
    },
    {
      "cell_type": "code",
      "execution_count": 14,
      "metadata": {
        "id": "7w204ufBCtp9"
      },
      "outputs": [],
      "source": [
        "train_dyn={}"
      ]
    },
    {
      "cell_type": "markdown",
      "metadata": {
        "id": "A_AMN1VWy-XI"
      },
      "source": [
        "### Training"
      ]
    },
    {
      "cell_type": "code",
      "execution_count": 15,
      "metadata": {
        "colab": {
          "base_uri": "https://localhost:8080/"
        },
        "id": "bSg5qUo5ya5z",
        "outputId": "9d1e72d5-73eb-4268-a368-8866451b5e41"
      },
      "outputs": [
        {
          "name": "stdout",
          "output_type": "stream",
          "text": [
            "EPOCH 1/90...\n",
            "Generation of samples for data cartography...\n",
            "EPOCH 2/90...\n",
            "Generation of samples for data cartography...\n",
            "EPOCH 3/90...\n",
            "Generation of samples for data cartography...\n",
            "EPOCH 4/90...\n",
            "Generation of samples for data cartography...\n",
            "EPOCH 5/90...\n",
            "Generation of samples for data cartography...\n",
            "EPOCH 6/90...\n",
            "Generation of samples for data cartography...\n",
            "EPOCH 7/90...\n",
            "Generation of samples for data cartography...\n",
            "EPOCH 8/90...\n",
            "Generation of samples for data cartography...\n",
            "EPOCH 9/90...\n",
            "Generation of samples for data cartography...\n",
            "EPOCH 10/90...\n",
            "Generation of samples for data cartography...\n",
            "EPOCH 11/90...\n",
            "Generation of samples for data cartography...\n",
            "EPOCH 12/90...\n",
            "Generation of samples for data cartography...\n",
            "EPOCH 13/90...\n",
            "Generation of samples for data cartography...\n",
            "EPOCH 14/90...\n",
            "Generation of samples for data cartography...\n",
            "EPOCH 15/90...\n",
            "Generation of samples for data cartography...\n",
            "EPOCH 16/90...\n",
            "Generation of samples for data cartography...\n",
            "EPOCH 17/90...\n",
            "Generation of samples for data cartography...\n",
            "EPOCH 18/90...\n",
            "Generation of samples for data cartography...\n",
            "EPOCH 19/90...\n",
            "Generation of samples for data cartography...\n",
            "EPOCH 20/90...\n",
            "Generation of samples for data cartography...\n",
            "EPOCH 21/90...\n",
            "Generation of samples for data cartography...\n",
            "EPOCH 22/90...\n",
            "Generation of samples for data cartography...\n",
            "EPOCH 23/90...\n",
            "Generation of samples for data cartography...\n",
            "EPOCH 24/90...\n",
            "Generation of samples for data cartography...\n",
            "EPOCH 25/90...\n",
            "Generation of samples for data cartography...\n",
            "EPOCH 26/90...\n",
            "Generation of samples for data cartography...\n",
            "EPOCH 27/90...\n",
            "Generation of samples for data cartography...\n",
            "EPOCH 28/90...\n",
            "Generation of samples for data cartography...\n",
            "EPOCH 29/90...\n",
            "Generation of samples for data cartography...\n",
            "EPOCH 30/90...\n",
            "Generation of samples for data cartography...\n",
            "EPOCH 31/90...\n",
            "Generation of samples for data cartography...\n",
            "EPOCH 32/90...\n",
            "Generation of samples for data cartography...\n",
            "EPOCH 33/90...\n",
            "Generation of samples for data cartography...\n",
            "EPOCH 34/90...\n",
            "Generation of samples for data cartography...\n",
            "EPOCH 35/90...\n",
            "Generation of samples for data cartography...\n",
            "EPOCH 36/90...\n",
            "Generation of samples for data cartography...\n",
            "EPOCH 37/90...\n",
            "Generation of samples for data cartography...\n",
            "EPOCH 38/90...\n",
            "Generation of samples for data cartography...\n",
            "EPOCH 39/90...\n",
            "Generation of samples for data cartography...\n",
            "EPOCH 40/90...\n",
            "Generation of samples for data cartography...\n",
            "EPOCH 41/90...\n",
            "Generation of samples for data cartography...\n",
            "EPOCH 42/90...\n",
            "Generation of samples for data cartography...\n",
            "EPOCH 43/90...\n",
            "Generation of samples for data cartography...\n",
            "EPOCH 44/90...\n",
            "Generation of samples for data cartography...\n",
            "EPOCH 45/90...\n",
            "Generation of samples for data cartography...\n",
            "EPOCH 46/90...\n",
            "Generation of samples for data cartography...\n",
            "EPOCH 47/90...\n",
            "Generation of samples for data cartography...\n",
            "EPOCH 48/90...\n",
            "Generation of samples for data cartography...\n",
            "EPOCH 49/90...\n",
            "Generation of samples for data cartography...\n",
            "EPOCH 50/90...\n",
            "Generation of samples for data cartography...\n",
            "EPOCH 51/90...\n",
            "Generation of samples for data cartography...\n",
            "EPOCH 52/90...\n",
            "Generation of samples for data cartography...\n",
            "EPOCH 53/90...\n",
            "Generation of samples for data cartography...\n",
            "EPOCH 54/90...\n",
            "Generation of samples for data cartography...\n",
            "EPOCH 55/90...\n",
            "Generation of samples for data cartography...\n",
            "EPOCH 56/90...\n",
            "Generation of samples for data cartography...\n",
            "EPOCH 57/90...\n",
            "Generation of samples for data cartography...\n",
            "EPOCH 58/90...\n",
            "Generation of samples for data cartography...\n",
            "EPOCH 59/90...\n",
            "Generation of samples for data cartography...\n",
            "EPOCH 60/90...\n",
            "Generation of samples for data cartography...\n",
            "EPOCH 61/90...\n",
            "Generation of samples for data cartography...\n",
            "EPOCH 62/90...\n",
            "Generation of samples for data cartography...\n",
            "EPOCH 63/90...\n",
            "Generation of samples for data cartography...\n",
            "EPOCH 64/90...\n",
            "Generation of samples for data cartography...\n",
            "EPOCH 65/90...\n",
            "Generation of samples for data cartography...\n",
            "EPOCH 66/90...\n",
            "Generation of samples for data cartography...\n",
            "EPOCH 67/90...\n",
            "Generation of samples for data cartography...\n",
            "EPOCH 68/90...\n",
            "Generation of samples for data cartography...\n",
            "EPOCH 69/90...\n",
            "Generation of samples for data cartography...\n",
            "EPOCH 70/90...\n",
            "Generation of samples for data cartography...\n",
            "EPOCH 71/90...\n",
            "Generation of samples for data cartography...\n",
            "EPOCH 72/90...\n",
            "Generation of samples for data cartography...\n",
            "EPOCH 73/90...\n",
            "Generation of samples for data cartography...\n",
            "EPOCH 74/90...\n",
            "Generation of samples for data cartography...\n",
            "EPOCH 75/90...\n",
            "Generation of samples for data cartography...\n",
            "EPOCH 76/90...\n",
            "Generation of samples for data cartography...\n",
            "EPOCH 77/90...\n",
            "Generation of samples for data cartography...\n",
            "EPOCH 78/90...\n",
            "Generation of samples for data cartography...\n",
            "EPOCH 79/90...\n",
            "Generation of samples for data cartography...\n",
            "EPOCH 80/90...\n",
            "Generation of samples for data cartography...\n",
            "EPOCH 81/90...\n",
            "Generation of samples for data cartography...\n",
            "EPOCH 82/90...\n",
            "Generation of samples for data cartography...\n",
            "EPOCH 83/90...\n",
            "Generation of samples for data cartography...\n",
            "EPOCH 84/90...\n",
            "Generation of samples for data cartography...\n",
            "EPOCH 85/90...\n",
            "Generation of samples for data cartography...\n",
            "EPOCH 86/90...\n",
            "Generation of samples for data cartography...\n",
            "EPOCH 87/90...\n",
            "Generation of samples for data cartography...\n",
            "EPOCH 88/90...\n",
            "Generation of samples for data cartography...\n",
            "EPOCH 89/90...\n",
            "Generation of samples for data cartography...\n",
            "EPOCH 90/90...\n",
            "Generation of samples for data cartography...\n"
          ]
        }
      ],
      "source": [
        "history = trainer_AC(model, device, optimizer, loss_fn, loader, EPOCHS*3, train_dyn)"
      ]
    },
    {
      "cell_type": "markdown",
      "metadata": {
        "id": "vE39Cn3LCtp-"
      },
      "source": [
        "## Section 4 - Model(s) evaluation"
      ]
    },
    {
      "cell_type": "code",
      "execution_count": 16,
      "metadata": {
        "colab": {
          "base_uri": "https://localhost:8080/"
        },
        "id": "9NJpwH97FeXb",
        "outputId": "4a921f26-bd95-4594-b381-85a207fbdc6b"
      },
      "outputs": [
        {
          "name": "stdout",
          "output_type": "stream",
          "text": [
            "              precision    recall  f1-score   support\n",
            "\n",
            "        prem       0.98      0.99      0.99       589\n",
            "        conc       0.85      0.70      0.77        40\n",
            "\n",
            "   micro avg       0.97      0.97      0.97       629\n",
            "   macro avg       0.91      0.85      0.88       629\n",
            "weighted avg       0.97      0.97      0.97       629\n",
            " samples avg       0.97      0.97      0.97       629\n",
            "\n"
          ]
        }
      ],
      "source": [
        "model.eval()\n",
        "results = evaluation_run(model, test_loader, device)\n",
        "results = pd.DataFrame(results, columns=labels)\n",
        "print(classification_report(s_test[labels], results, target_names=labels, zero_division=0.0))"
      ]
    },
    {
      "cell_type": "markdown",
      "metadata": {
        "id": "gBKnsColCtp-"
      },
      "source": [
        "## Section 5 - PLOT DATA CARTOGRAHPY"
      ]
    },
    {
      "cell_type": "code",
      "execution_count": 17,
      "metadata": {
        "id": "H9lfUoDXCtp_"
      },
      "outputs": [],
      "source": [
        "cartography=compute_metrics(train_dyn)\n",
        "sentences = sentences.join(cartography)"
      ]
    },
    {
      "cell_type": "code",
      "execution_count": 18,
      "metadata": {
        "colab": {
          "base_uri": "https://localhost:8080/",
          "height": 590
        },
        "id": "XYtzG4hDvtiG",
        "outputId": "e5d0b823-5751-40f8-a65e-18308fbaabb3"
      },
      "outputs": [
        {
          "data": {
            "image/png": "[encoded data removed]",
            "text/plain": [
              "<Figure size 800x600 with 1 Axes>"
            ]
          },
          "metadata": {},
          "output_type": "display_data"
        }
      ],
      "source": [
        "plot_data_map(cartography,plot_dir=os.getcwd(),show_hist=False, model=CARD_KEY+\"-AC\")"
      ]
    },
    {
      "cell_type": "markdown",
      "metadata": {
        "id": "qP4Lnfl1jTUM"
      },
      "source": [
        "## Section 6 - Curriculum Learning"
      ]
    },
    {
      "cell_type": "markdown",
      "metadata": {
        "id": "bdDTM25TFeXb"
      },
      "source": [
        "### Create the new datasets and dataloaders"
      ]
    },
    {
      "cell_type": "code",
      "execution_count": 19,
      "metadata": {
        "id": "VDp_bytQFeXb"
      },
      "outputs": [],
      "source": [
        "new_col = pd.DataFrame(sentences['confidence'] * (1 - sentences['variability']), columns = ['c*(1-v)'])\n",
        "sentences = sentences.join(new_col)\n",
        "datasets_curriculum = [\n",
        "    sentences[sentences['c*(1-v)'] >= sentences['c*(1-v)'].quantile(i/10)].reset_index(drop=True, inplace=False)\n",
        "    for i in range(9, -1, -1)\n",
        "    ]\n",
        "datasets_curriculum = [Sentences_Dataset(ds, tokenizer, labels, max_len=MAX_LEN) for ds in datasets_curriculum]\n",
        "loaders_curriculum = [DataLoader(ds, batch_size=TRAIN_BATCH_SIZE, shuffle=True, pin_memory=True) for ds in datasets_curriculum]"
      ]
    },
    {
      "cell_type": "code",
      "execution_count": 20,
      "metadata": {},
      "outputs": [
        {
          "data": {
            "image/png": "[encoded data removed]",
            "text/plain": [
              "<Figure size 640x480 with 1 Axes>"
            ]
          },
          "metadata": {},
          "output_type": "display_data"
        }
      ],
      "source": [
        "hard_to_learn(sentences, labels=labels, threshold=0.5)"
      ]
    },
    {
      "cell_type": "markdown",
      "metadata": {
        "id": "a1Uh7_6t0hiI"
      },
      "source": [
        "### Create the new model"
      ]
    },
    {
      "cell_type": "code",
      "execution_count": 21,
      "metadata": {
        "colab": {
          "base_uri": "https://localhost:8080/"
        },
        "id": "gRKbayMGpqSb",
        "outputId": "4b9da889-5a4d-46e8-89c7-b110f343a240"
      },
      "outputs": [
        {
          "name": "stderr",
          "output_type": "stream",
          "text": [
            "Some weights of BertForSequenceClassification were not initialized from the model checkpoint at prajjwal1/bert-tiny and are newly initialized: ['classifier.weight', 'classifier.bias']\n",
            "You should probably TRAIN this model on a down-stream task to be able to use it for predictions and inference.\n"
          ]
        }
      ],
      "source": [
        "model2 = AutoModelForSequenceClassification.from_pretrained(CARD, num_labels = len(labels), problem_type='multi_label_classification')\n",
        "for param in model2.bert.embeddings.parameters(): # We don't want to train the first layer\n",
        "    param.requires_grad = False\n",
        "for param in model2.bert.encoder.parameters():\n",
        "    param.requires_grad = False\n",
        "optimizer = torch.optim.AdamW(model2.parameters(), lr=LEARNING_RATE, weight_decay=1e-5)\n",
        "optimizer.zero_grad()\n",
        "loss_fn = torch.nn.BCEWithLogitsLoss()"
      ]
    },
    {
      "cell_type": "code",
      "execution_count": 22,
      "metadata": {
        "colab": {
          "base_uri": "https://localhost:8080/"
        },
        "id": "OVDIxXIYpxUf",
        "outputId": "cb68e04b-c156-43da-c9f3-a490b7d26bc4"
      },
      "outputs": [
        {
          "data": {
            "text/plain": [
              "BertForSequenceClassification(\n",
              "  (bert): BertModel(\n",
              "    (embeddings): BertEmbeddings(\n",
              "      (word_embeddings): Embedding(30522, 128, padding_idx=0)\n",
              "      (position_embeddings): Embedding(512, 128)\n",
              "      (token_type_embeddings): Embedding(2, 128)\n",
              "      (LayerNorm): LayerNorm((128,), eps=1e-12, elementwise_affine=True)\n",
              "      (dropout): Dropout(p=0.1, inplace=False)\n",
              "    )\n",
              "    (encoder): BertEncoder(\n",
              "      (layer): ModuleList(\n",
              "        (0-1): 2 x BertLayer(\n",
              "          (attention): BertAttention(\n",
              "            (self): BertSelfAttention(\n",
              "              (query): Linear(in_features=128, out_features=128, bias=True)\n",
              "              (key): Linear(in_features=128, out_features=128, bias=True)\n",
              "              (value): Linear(in_features=128, out_features=128, bias=True)\n",
              "              (dropout): Dropout(p=0.1, inplace=False)\n",
              "            )\n",
              "            (output): BertSelfOutput(\n",
              "              (dense): Linear(in_features=128, out_features=128, bias=True)\n",
              "              (LayerNorm): LayerNorm((128,), eps=1e-12, elementwise_affine=True)\n",
              "              (dropout): Dropout(p=0.1, inplace=False)\n",
              "            )\n",
              "          )\n",
              "          (intermediate): BertIntermediate(\n",
              "            (dense): Linear(in_features=128, out_features=512, bias=True)\n",
              "            (intermediate_act_fn): GELUActivation()\n",
              "          )\n",
              "          (output): BertOutput(\n",
              "            (dense): Linear(in_features=512, out_features=128, bias=True)\n",
              "            (LayerNorm): LayerNorm((128,), eps=1e-12, elementwise_affine=True)\n",
              "            (dropout): Dropout(p=0.1, inplace=False)\n",
              "          )\n",
              "        )\n",
              "      )\n",
              "    )\n",
              "    (pooler): BertPooler(\n",
              "      (dense): Linear(in_features=128, out_features=128, bias=True)\n",
              "      (activation): Tanh()\n",
              "    )\n",
              "  )\n",
              "  (dropout): Dropout(p=0.1, inplace=False)\n",
              "  (classifier): Linear(in_features=128, out_features=2, bias=True)\n",
              ")"
            ]
          },
          "execution_count": 22,
          "metadata": {},
          "output_type": "execute_result"
        }
      ],
      "source": [
        "device = torch.device('cuda') if torch.cuda.is_available() else torch.device('cpu')\n",
        "model2.to(device)"
      ]
    },
    {
      "cell_type": "markdown",
      "metadata": {
        "id": "Zy2-ByKlxzuZ"
      },
      "source": [
        "### Train with curriculum learning"
      ]
    },
    {
      "cell_type": "code",
      "execution_count": 23,
      "metadata": {
        "colab": {
          "base_uri": "https://localhost:8080/"
        },
        "id": "94afTQKzzUhx",
        "outputId": "8f96856b-57ab-4795-ec5e-66da7003273e"
      },
      "outputs": [
        {
          "name": "stdout",
          "output_type": "stream",
          "text": [
            "EPOCH 1/6...\n",
            "Generation of samples for data cartography...\n",
            "EPOCH 2/6...\n",
            "Generation of samples for data cartography...\n",
            "EPOCH 3/6...\n",
            "Generation of samples for data cartography...\n",
            "EPOCH 4/6...\n",
            "Generation of samples for data cartography...\n",
            "EPOCH 5/6...\n",
            "Generation of samples for data cartography...\n",
            "EPOCH 6/6...\n",
            "Generation of samples for data cartography...\n",
            "EPOCH 1/6...\n",
            "Generation of samples for data cartography...\n",
            "EPOCH 2/6...\n",
            "Generation of samples for data cartography...\n",
            "EPOCH 3/6...\n",
            "Generation of samples for data cartography...\n",
            "EPOCH 4/6...\n",
            "Generation of samples for data cartography...\n",
            "EPOCH 5/6...\n",
            "Generation of samples for data cartography...\n",
            "EPOCH 6/6...\n",
            "Generation of samples for data cartography...\n",
            "EPOCH 1/7...\n",
            "Generation of samples for data cartography...\n",
            "EPOCH 2/7...\n",
            "Generation of samples for data cartography...\n",
            "EPOCH 3/7...\n",
            "Generation of samples for data cartography...\n",
            "EPOCH 4/7...\n",
            "Generation of samples for data cartography...\n",
            "EPOCH 5/7...\n",
            "Generation of samples for data cartography...\n",
            "EPOCH 6/7...\n",
            "Generation of samples for data cartography...\n",
            "EPOCH 7/7...\n",
            "Generation of samples for data cartography...\n",
            "EPOCH 1/7...\n",
            "Generation of samples for data cartography...\n",
            "EPOCH 2/7...\n",
            "Generation of samples for data cartography...\n",
            "EPOCH 3/7...\n",
            "Generation of samples for data cartography...\n",
            "EPOCH 4/7...\n",
            "Generation of samples for data cartography...\n",
            "EPOCH 5/7...\n",
            "Generation of samples for data cartography...\n",
            "EPOCH 6/7...\n",
            "Generation of samples for data cartography...\n",
            "EPOCH 7/7...\n",
            "Generation of samples for data cartography...\n",
            "EPOCH 1/10...\n",
            "Generation of samples for data cartography...\n",
            "EPOCH 2/10...\n",
            "Generation of samples for data cartography...\n",
            "EPOCH 3/10...\n",
            "Generation of samples for data cartography...\n",
            "EPOCH 4/10...\n",
            "Generation of samples for data cartography...\n",
            "EPOCH 5/10...\n",
            "Generation of samples for data cartography...\n",
            "EPOCH 6/10...\n",
            "Generation of samples for data cartography...\n",
            "EPOCH 7/10...\n",
            "Generation of samples for data cartography...\n",
            "EPOCH 8/10...\n",
            "Generation of samples for data cartography...\n",
            "EPOCH 9/10...\n",
            "Generation of samples for data cartography...\n",
            "EPOCH 10/10...\n",
            "Generation of samples for data cartography...\n",
            "EPOCH 1/10...\n",
            "Generation of samples for data cartography...\n",
            "EPOCH 2/10...\n",
            "Generation of samples for data cartography...\n",
            "EPOCH 3/10...\n",
            "Generation of samples for data cartography...\n",
            "EPOCH 4/10...\n",
            "Generation of samples for data cartography...\n",
            "EPOCH 5/10...\n",
            "Generation of samples for data cartography...\n",
            "EPOCH 6/10...\n",
            "Generation of samples for data cartography...\n",
            "EPOCH 7/10...\n",
            "Generation of samples for data cartography...\n",
            "EPOCH 8/10...\n",
            "Generation of samples for data cartography...\n",
            "EPOCH 9/10...\n",
            "Generation of samples for data cartography...\n",
            "EPOCH 10/10...\n",
            "Generation of samples for data cartography...\n",
            "EPOCH 1/15...\n",
            "Generation of samples for data cartography...\n",
            "EPOCH 2/15...\n",
            "Generation of samples for data cartography...\n",
            "EPOCH 3/15...\n",
            "Generation of samples for data cartography...\n",
            "EPOCH 4/15...\n",
            "Generation of samples for data cartography...\n",
            "EPOCH 5/15...\n",
            "Generation of samples for data cartography...\n",
            "EPOCH 6/15...\n",
            "Generation of samples for data cartography...\n",
            "EPOCH 7/15...\n",
            "Generation of samples for data cartography...\n",
            "EPOCH 8/15...\n",
            "Generation of samples for data cartography...\n",
            "EPOCH 9/15...\n",
            "Generation of samples for data cartography...\n",
            "EPOCH 10/15...\n",
            "Generation of samples for data cartography...\n",
            "EPOCH 11/15...\n",
            "Generation of samples for data cartography...\n",
            "EPOCH 12/15...\n",
            "Generation of samples for data cartography...\n",
            "EPOCH 13/15...\n",
            "Generation of samples for data cartography...\n",
            "EPOCH 14/15...\n",
            "Generation of samples for data cartography...\n",
            "EPOCH 15/15...\n",
            "Generation of samples for data cartography...\n",
            "EPOCH 1/15...\n",
            "Generation of samples for data cartography...\n",
            "EPOCH 2/15...\n",
            "Generation of samples for data cartography...\n",
            "EPOCH 3/15...\n",
            "Generation of samples for data cartography...\n",
            "EPOCH 4/15...\n",
            "Generation of samples for data cartography...\n",
            "EPOCH 5/15...\n",
            "Generation of samples for data cartography...\n",
            "EPOCH 6/15...\n",
            "Generation of samples for data cartography...\n",
            "EPOCH 7/15...\n",
            "Generation of samples for data cartography...\n",
            "EPOCH 8/15...\n",
            "Generation of samples for data cartography...\n",
            "EPOCH 9/15...\n",
            "Generation of samples for data cartography...\n",
            "EPOCH 10/15...\n",
            "Generation of samples for data cartography...\n",
            "EPOCH 11/15...\n",
            "Generation of samples for data cartography...\n",
            "EPOCH 12/15...\n",
            "Generation of samples for data cartography...\n",
            "EPOCH 13/15...\n",
            "Generation of samples for data cartography...\n",
            "EPOCH 14/15...\n",
            "Generation of samples for data cartography...\n",
            "EPOCH 15/15...\n",
            "Generation of samples for data cartography...\n",
            "EPOCH 1/30...\n",
            "Generation of samples for data cartography...\n",
            "EPOCH 2/30...\n",
            "Generation of samples for data cartography...\n",
            "EPOCH 3/30...\n",
            "Generation of samples for data cartography...\n",
            "EPOCH 4/30...\n",
            "Generation of samples for data cartography...\n",
            "EPOCH 5/30...\n",
            "Generation of samples for data cartography...\n",
            "EPOCH 6/30...\n",
            "Generation of samples for data cartography...\n",
            "EPOCH 7/30...\n",
            "Generation of samples for data cartography...\n",
            "EPOCH 8/30...\n",
            "Generation of samples for data cartography...\n",
            "EPOCH 9/30...\n",
            "Generation of samples for data cartography...\n",
            "EPOCH 10/30...\n",
            "Generation of samples for data cartography...\n",
            "EPOCH 11/30...\n",
            "Generation of samples for data cartography...\n",
            "EPOCH 12/30...\n",
            "Generation of samples for data cartography...\n",
            "EPOCH 13/30...\n",
            "Generation of samples for data cartography...\n",
            "EPOCH 14/30...\n",
            "Generation of samples for data cartography...\n",
            "EPOCH 15/30...\n",
            "Generation of samples for data cartography...\n",
            "EPOCH 16/30...\n",
            "Generation of samples for data cartography...\n",
            "EPOCH 17/30...\n",
            "Generation of samples for data cartography...\n",
            "EPOCH 18/30...\n",
            "Generation of samples for data cartography...\n",
            "EPOCH 19/30...\n",
            "Generation of samples for data cartography...\n",
            "EPOCH 20/30...\n",
            "Generation of samples for data cartography...\n",
            "EPOCH 21/30...\n",
            "Generation of samples for data cartography...\n",
            "EPOCH 22/30...\n",
            "Generation of samples for data cartography...\n",
            "EPOCH 23/30...\n",
            "Generation of samples for data cartography...\n",
            "EPOCH 24/30...\n",
            "Generation of samples for data cartography...\n",
            "EPOCH 25/30...\n",
            "Generation of samples for data cartography...\n",
            "EPOCH 26/30...\n",
            "Generation of samples for data cartography...\n",
            "EPOCH 27/30...\n",
            "Generation of samples for data cartography...\n",
            "EPOCH 28/30...\n",
            "Generation of samples for data cartography...\n",
            "EPOCH 29/30...\n",
            "Generation of samples for data cartography...\n",
            "EPOCH 30/30...\n",
            "Generation of samples for data cartography...\n",
            "EPOCH 1/30...\n",
            "Generation of samples for data cartography...\n",
            "EPOCH 2/30...\n",
            "Generation of samples for data cartography...\n",
            "EPOCH 3/30...\n",
            "Generation of samples for data cartography...\n",
            "EPOCH 4/30...\n",
            "Generation of samples for data cartography...\n",
            "EPOCH 5/30...\n",
            "Generation of samples for data cartography...\n",
            "EPOCH 6/30...\n",
            "Generation of samples for data cartography...\n",
            "EPOCH 7/30...\n",
            "Generation of samples for data cartography...\n",
            "EPOCH 8/30...\n",
            "Generation of samples for data cartography...\n",
            "EPOCH 9/30...\n",
            "Generation of samples for data cartography...\n",
            "EPOCH 10/30...\n",
            "Generation of samples for data cartography...\n",
            "EPOCH 11/30...\n",
            "Generation of samples for data cartography...\n",
            "EPOCH 12/30...\n",
            "Generation of samples for data cartography...\n",
            "EPOCH 13/30...\n",
            "Generation of samples for data cartography...\n",
            "EPOCH 14/30...\n",
            "Generation of samples for data cartography...\n",
            "EPOCH 15/30...\n",
            "Generation of samples for data cartography...\n",
            "EPOCH 16/30...\n",
            "Generation of samples for data cartography...\n",
            "EPOCH 17/30...\n",
            "Generation of samples for data cartography...\n",
            "EPOCH 18/30...\n",
            "Generation of samples for data cartography...\n",
            "EPOCH 19/30...\n",
            "Generation of samples for data cartography...\n",
            "EPOCH 20/30...\n",
            "Generation of samples for data cartography...\n",
            "EPOCH 21/30...\n",
            "Generation of samples for data cartography...\n",
            "EPOCH 22/30...\n",
            "Generation of samples for data cartography...\n",
            "EPOCH 23/30...\n",
            "Generation of samples for data cartography...\n",
            "EPOCH 24/30...\n",
            "Generation of samples for data cartography...\n",
            "EPOCH 25/30...\n",
            "Generation of samples for data cartography...\n",
            "EPOCH 26/30...\n",
            "Generation of samples for data cartography...\n",
            "EPOCH 27/30...\n",
            "Generation of samples for data cartography...\n",
            "EPOCH 28/30...\n",
            "Generation of samples for data cartography...\n",
            "EPOCH 29/30...\n",
            "Generation of samples for data cartography...\n",
            "EPOCH 30/30...\n",
            "Generation of samples for data cartography...\n",
            "EPOCH 1/30...\n",
            "Generation of samples for data cartography...\n",
            "EPOCH 2/30...\n",
            "Generation of samples for data cartography...\n",
            "EPOCH 3/30...\n",
            "Generation of samples for data cartography...\n",
            "EPOCH 4/30...\n",
            "Generation of samples for data cartography...\n",
            "EPOCH 5/30...\n",
            "Generation of samples for data cartography...\n",
            "EPOCH 6/30...\n",
            "Generation of samples for data cartography...\n",
            "EPOCH 7/30...\n",
            "Generation of samples for data cartography...\n",
            "EPOCH 8/30...\n",
            "Generation of samples for data cartography...\n",
            "EPOCH 9/30...\n",
            "Generation of samples for data cartography...\n",
            "EPOCH 10/30...\n",
            "Generation of samples for data cartography...\n",
            "EPOCH 11/30...\n",
            "Generation of samples for data cartography...\n",
            "EPOCH 12/30...\n",
            "Generation of samples for data cartography...\n",
            "EPOCH 13/30...\n",
            "Generation of samples for data cartography...\n",
            "EPOCH 14/30...\n",
            "Generation of samples for data cartography...\n",
            "EPOCH 15/30...\n",
            "Generation of samples for data cartography...\n",
            "EPOCH 16/30...\n",
            "Generation of samples for data cartography...\n",
            "EPOCH 17/30...\n",
            "Generation of samples for data cartography...\n",
            "EPOCH 18/30...\n",
            "Generation of samples for data cartography...\n",
            "EPOCH 19/30...\n",
            "Generation of samples for data cartography...\n",
            "EPOCH 20/30...\n",
            "Generation of samples for data cartography...\n",
            "EPOCH 21/30...\n",
            "Generation of samples for data cartography...\n",
            "EPOCH 22/30...\n",
            "Generation of samples for data cartography...\n",
            "EPOCH 23/30...\n",
            "Generation of samples for data cartography...\n",
            "EPOCH 24/30...\n",
            "Generation of samples for data cartography...\n",
            "EPOCH 25/30...\n",
            "Generation of samples for data cartography...\n",
            "EPOCH 26/30...\n",
            "Generation of samples for data cartography...\n",
            "EPOCH 27/30...\n",
            "Generation of samples for data cartography...\n",
            "EPOCH 28/30...\n",
            "Generation of samples for data cartography...\n",
            "EPOCH 29/30...\n",
            "Generation of samples for data cartography...\n",
            "EPOCH 30/30...\n",
            "Generation of samples for data cartography...\n"
          ]
        }
      ],
      "source": [
        "history2 = []\n",
        "train_dyn2 = {}\n",
        "for i,loader in enumerate(loaders_curriculum):\n",
        "    history2.extend(trainer_AC(model2, device, optimizer, loss_fn, loader, EPOCHS//((11-i)//2), train_dyn2))\n",
        "history2.extend(trainer_AC(model2, device, optimizer, loss_fn, loaders_curriculum[-1], EPOCHS, train_dyn2))"
      ]
    },
    {
      "cell_type": "code",
      "execution_count": 24,
      "metadata": {
        "colab": {
          "base_uri": "https://localhost:8080/",
          "height": 437
        },
        "id": "CTA6dw0eFeXl",
        "outputId": "c0014b2b-d680-457d-9e50-f732956f3904"
      },
      "outputs": [
        {
          "data": {
            "image/png": "[encoded data removed]",
            "text/plain": [
              "<Figure size 640x480 with 1 Axes>"
            ]
          },
          "metadata": {},
          "output_type": "display_data"
        }
      ],
      "source": [
        "plt.plot(history, c='r')\n",
        "plt.plot(history2, c='b')\n",
        "plt.title(\"Learning error for pre-curriculum and curriculum model\")\n",
        "plt.legend(['normal', 'curriculum'])\n",
        "plt.grid(True)\n",
        "plt.show();"
      ]
    },
    {
      "cell_type": "code",
      "execution_count": 25,
      "metadata": {
        "colab": {
          "base_uri": "https://localhost:8080/"
        },
        "id": "q-QvlfeRFeXl",
        "outputId": "523fa263-c6cc-46b5-8f71-8ebf97b42e8e"
      },
      "outputs": [
        {
          "name": "stdout",
          "output_type": "stream",
          "text": [
            "              precision    recall  f1-score   support\n",
            "\n",
            "        prem       0.98      0.99      0.99       589\n",
            "        conc       0.85      0.70      0.77        40\n",
            "\n",
            "   micro avg       0.97      0.97      0.97       629\n",
            "   macro avg       0.91      0.85      0.88       629\n",
            "weighted avg       0.97      0.97      0.97       629\n",
            " samples avg       0.97      0.97      0.97       629\n",
            "\n"
          ]
        }
      ],
      "source": [
        "results2 = evaluation_run(model2, test_loader, device)\n",
        "results2 = pd.DataFrame(results2, columns=labels)\n",
        "print(classification_report(s_test[labels], results2, target_names=labels, zero_division=0.0))"
      ]
    },
    {
      "cell_type": "markdown",
      "metadata": {},
      "source": [
        "## Section 7 - Data Augmentation on hard to learn"
      ]
    },
    {
      "cell_type": "code",
      "execution_count": 26,
      "metadata": {},
      "outputs": [
        {
          "name": "stdout",
          "output_type": "stream",
          "text": [
            "The number of maxims for ac: 103\n"
          ]
        }
      ],
      "source": [
        "# Filter rows based on conditions (Name is 'prem' and Type is 'L')\n",
        "filtered_dfac = sentences[(sentences['c*(1-v)']<=0.5)]\n",
        "\n",
        "# Extract the 'Text' column from the filtered DataFrame\n",
        "name_column_ac = filtered_dfac['Name'].reset_index(drop=True)\n",
        "text_column_ac = filtered_dfac['Text'].reset_index(drop=True)\n",
        "conc_column_ac = filtered_dfac['conc'].reset_index(drop=True)\n",
        "prem_column_ac = filtered_dfac['prem'].reset_index(drop=True)\n",
        "conf_column_ac = filtered_dfac['confidence'].reset_index(drop=True)\n",
        "var_column_ac = filtered_dfac['variability'].reset_index(drop=True)\n",
        "corr_column_ac = filtered_dfac['correctness'].reset_index(drop=True)\n",
        "cv_column_ac = filtered_dfac['c*(1-v)'].reset_index(drop=True)\n",
        "\n",
        "text_column_ac.to_csv('output_ac.txt', index=False, header=False, sep='\\t')\n",
        "\n",
        "TRAINSETPATHX=str(Path.cwd().joinpath('output_ac.txt'))\n",
        "\n",
        "f=open(TRAINSETPATHX,'r',encoding='utf8')\n",
        "maximbits_ac=f.readlines()\n",
        "f.close()\n",
        "#removing the endline characters\n",
        "maximbits_ac=[maxim[:-1] for maxim in maximbits_ac]\n",
        "\n",
        "print(\"The number of maxims for ac: {}\".format(len(maximbits_ac)))"
      ]
    },
    {
      "cell_type": "code",
      "execution_count": 27,
      "metadata": {},
      "outputs": [
        {
          "name": "stdout",
          "output_type": "stream",
          "text": [
            "103\n",
            "103\n"
          ]
        }
      ],
      "source": [
        "#breaking th maxim lines into sentences\n",
        "sentences_ac = []\n",
        "nsentence_ac = []  #storing the number of sentences each maxim contains\n",
        "for line in maximbits_ac:\n",
        "    count = 0\n",
        "    #splitting sentences using \". \" characters\n",
        "    #listsent=line.replace('\\\\\\n','').split('. ')\n",
        "    listsent = line.split('. ')\n",
        "    for i in range(0, len(listsent)):\n",
        "        sentence_ac = listsent[i]\n",
        "        #sentences that are too short are eliminated\n",
        "        if len(sentence_ac) < 5:\n",
        "            continue\n",
        "        elif (i == len(listsent) - 1):\n",
        "            #the last one is added as it is since we used the character sequence \". \" for the seperation\n",
        "            #and the last sentence contains only \".\"\n",
        "            sentences_ac.append(sentence_ac)\n",
        "            count = count + 1\n",
        "            continue\n",
        "        else:\n",
        "            #the \".\" characters are restored\n",
        "            if (sentence_ac[-1] != '.'):\n",
        "                sentence_ac = sentence_ac + '.'\n",
        "            sentences_ac.append(sentence_ac)\n",
        "            count = count + 1\n",
        "    nsentence_ac.append(count)\n",
        "\n",
        "print(len(sentences_ac))\n",
        "print(len(nsentence_ac))"
      ]
    },
    {
      "cell_type": "code",
      "execution_count": 28,
      "metadata": {},
      "outputs": [
        {
          "name": "stdout",
          "output_type": "stream",
          "text": [
            "0\n",
            "100\n"
          ]
        }
      ],
      "source": [
        "perfix=[0.6] #percentage desired\n",
        "noisesent6=[]\n",
        "S=[]\n",
        "for sent in sentences_ac:\n",
        "    if sentences_ac.index(sent)%100==0:\n",
        "      print(sentences_ac.index(sent))\n",
        "    #tokinizing and capitalizing the sentences\n",
        "    tokens = nltk.word_tokenize(cleanline(sent).capitalize())\n",
        "    #lower-casing the tokens\n",
        "    tokens=[token.lower() for token in tokens]\n",
        "    #eliminating the stop words\n",
        "    nonstoptoken = [word for word in tokens if not word in stop_words]\n",
        "    tags = nltk.pos_tag(nonstoptoken)\n",
        "    #collecting the tokens with POS tag in categories nouns, adjectives and adverbs\n",
        "    tochange=[tag for tag in tags if tag[1][0] in ['J','N','R']]\n",
        "    nchange=[round(per*len(tochange)) for per in perfix] #number of required replacements due to the percentage given\n",
        "    #print(\"Len to change: {}\".format(len(tochange)))\n",
        "    #print(\"Nchange: {}\".format(nchange[0]))\n",
        "    linemodtotal=sent.lower()\n",
        "    indicator=sent[0].isupper()\n",
        "    changed=0\n",
        "    #adding the sentences into list if no change is supposed to be performed\n",
        "    if nchange[0]==0:\n",
        "        if (indicator):\n",
        "            toadd=linemodtotal.capitalize()\n",
        "        else:\n",
        "            toadd=linemodtotal\n",
        "        noisesent6.append(toadd)\n",
        "    index=-1\n",
        "    #random.shuffle(tochange)\n",
        "    while(changed<nchange[-1]):\n",
        "        index+=1\n",
        "        if(index==len(tochange)):\n",
        "            if changed<nchange[0]:\n",
        "              if (indicator):\n",
        "                  toadd=linemodtotal.replace('#','').capitalize()\n",
        "              else:\n",
        "                  toadd=linemodtotal.replace('#','')\n",
        "              noisesent6.append(toadd)\n",
        "            break\n",
        "        word=tochange[index][0]\n",
        "        #print(\"Word to change: {}\".format(word))\n",
        "        #Obtaining the candidates for the replacement\n",
        "        [wn,check2]=synonyms(tochange[index][0],10)\n",
        "        #if the list is not empty:\n",
        "        if (check2):\n",
        "            toreplace=mostsimilar(embeddings,word,wn)\n",
        "            #word is replaced with the candidate accompanying \"#\" characters as boundaries\n",
        "            #this is done to prevent the replacement of the in-word and multiple occurences of the words in process\n",
        "            pattern='(?<![a-zA-Z#])'+word+'(?![a-zA-Z#])'\n",
        "            linemodtotal=re.sub(pattern,'#'+toreplace+'#',linemodtotal,1)\n",
        "            #print(linemodtotal)\n",
        "            changed+=1\n",
        "        else:\n",
        "            continue\n",
        "        #if the desired number of words are replaced\n",
        "        if changed==nchange[0]:\n",
        "            #indicator serves as a sign of the capitalized sentence\n",
        "            #the \"#\" characters are removed at the end\n",
        "            if (indicator):\n",
        "                toadd=linemodtotal.replace('#','').capitalize()\n",
        "            else:\n",
        "                toadd=linemodtotal.replace('#','')\n",
        "            #the augmented sentences added to the list defined at the beginning\n",
        "            noisesent6.append(toadd)\n",
        "            break"
      ]
    },
    {
      "cell_type": "code",
      "execution_count": 29,
      "metadata": {},
      "outputs": [],
      "source": [
        "FINALPATH=str(Path.cwd())\n",
        "\n",
        "noiselist=[noisesent6]\n",
        "for element in noiselist:\n",
        "    folder=\"0.6\" #Could also be iterated due to percentages. Here we use only one percentage value therefore it is strictly defined\n",
        "    final=[]\n",
        "    start=0\n",
        "    for i in range(0,len(nsentence_ac)):\n",
        "        toaddm=''\n",
        "        n=nsentence_ac[i]\n",
        "        #merging the sentences that are contained in the same maxim\n",
        "        for j in range(start,start+n):\n",
        "            toaddm=toaddm+' '+element[j]\n",
        "        toaddm=toaddm[1:]\n",
        "        final.append(toaddm)\n",
        "        start=start+n\n",
        "    #saving the augmented samples into a text document in the given final path\n",
        "    f=open(FINALPATH+'/maximsamples_wordnetglove_ac'+folder[-1]+'0.txt', 'w',encoding=\"utf8\")\n",
        "    for line in final:\n",
        "        f.write(line+'\\n')\n",
        "    f.close()\n",
        "\n",
        "txt_file_path = \"maximsamples_wordnetglove_ac60.txt\"\n",
        "\n",
        "with open(txt_file_path, 'r', encoding='utf-8') as file:\n",
        "    new_texts = file.readlines()\n",
        "for k in range(len(new_texts)):\n",
        "    new_row = pd.DataFrame({\n",
        "        'Document': ['new'],\n",
        "        'Split': [1],\n",
        "        'Name': [name_column_ac[k]],\n",
        "        'Text': [new_texts[k]],\n",
        "        'prem': [prem_column_ac[k]],\n",
        "        'conc': [conc_column_ac[k]],\n",
        "        'confidence': [conf_column_ac[k]],\n",
        "        'variability': [var_column_ac[k]],\n",
        "        'correctness': [corr_column_ac[k]],\n",
        "        'c*(1-v)': [cv_column_ac[k]]\n",
        "    })\n",
        "    sentences = pd.concat([sentences, new_row], ignore_index=True)\n",
        "\n",
        "sentences.to_pickle(\"updated_df_ac.pkl\")"
      ]
    },
    {
      "cell_type": "code",
      "execution_count": 30,
      "metadata": {},
      "outputs": [],
      "source": [
        "datasets_curriculum = [\n",
        "    sentences[sentences['c*(1-v)'] >= sentences['c*(1-v)'].quantile(i/10)].reset_index(drop=True, inplace=False)\n",
        "    for i in range(9, -1, -1)\n",
        "    ]\n",
        "datasets_curriculum = [Sentences_Dataset(ds, tokenizer, labels, max_len=MAX_LEN) for ds in datasets_curriculum]\n",
        "loaders_curriculum = [DataLoader(ds, batch_size=TRAIN_BATCH_SIZE, shuffle=True, pin_memory=True) for ds in datasets_curriculum]"
      ]
    },
    {
      "cell_type": "markdown",
      "metadata": {},
      "source": [
        "## Section 8 - Model with Data Augmentation and curriculum learning"
      ]
    },
    {
      "cell_type": "code",
      "execution_count": 31,
      "metadata": {},
      "outputs": [
        {
          "name": "stderr",
          "output_type": "stream",
          "text": [
            "Some weights of BertForSequenceClassification were not initialized from the model checkpoint at prajjwal1/bert-tiny and are newly initialized: ['classifier.weight', 'classifier.bias']\n",
            "You should probably TRAIN this model on a down-stream task to be able to use it for predictions and inference.\n"
          ]
        }
      ],
      "source": [
        "model3 = AutoModelForSequenceClassification.from_pretrained(CARD, num_labels = len(labels), problem_type='multi_label_classification')\n",
        "for param in model3.bert.embeddings.parameters(): # We don't want to train the first layer\n",
        "    param.requires_grad = False\n",
        "for param in model3.bert.encoder.parameters():\n",
        "    param.requires_grad = False\n",
        "optimizer = torch.optim.AdamW(model3.parameters(), lr=LEARNING_RATE, weight_decay=1e-5)\n",
        "optimizer.zero_grad()\n",
        "loss_fn = torch.nn.BCEWithLogitsLoss()"
      ]
    },
    {
      "cell_type": "code",
      "execution_count": 32,
      "metadata": {},
      "outputs": [
        {
          "data": {
            "text/plain": [
              "BertForSequenceClassification(\n",
              "  (bert): BertModel(\n",
              "    (embeddings): BertEmbeddings(\n",
              "      (word_embeddings): Embedding(30522, 128, padding_idx=0)\n",
              "      (position_embeddings): Embedding(512, 128)\n",
              "      (token_type_embeddings): Embedding(2, 128)\n",
              "      (LayerNorm): LayerNorm((128,), eps=1e-12, elementwise_affine=True)\n",
              "      (dropout): Dropout(p=0.1, inplace=False)\n",
              "    )\n",
              "    (encoder): BertEncoder(\n",
              "      (layer): ModuleList(\n",
              "        (0-1): 2 x BertLayer(\n",
              "          (attention): BertAttention(\n",
              "            (self): BertSelfAttention(\n",
              "              (query): Linear(in_features=128, out_features=128, bias=True)\n",
              "              (key): Linear(in_features=128, out_features=128, bias=True)\n",
              "              (value): Linear(in_features=128, out_features=128, bias=True)\n",
              "              (dropout): Dropout(p=0.1, inplace=False)\n",
              "            )\n",
              "            (output): BertSelfOutput(\n",
              "              (dense): Linear(in_features=128, out_features=128, bias=True)\n",
              "              (LayerNorm): LayerNorm((128,), eps=1e-12, elementwise_affine=True)\n",
              "              (dropout): Dropout(p=0.1, inplace=False)\n",
              "            )\n",
              "          )\n",
              "          (intermediate): BertIntermediate(\n",
              "            (dense): Linear(in_features=128, out_features=512, bias=True)\n",
              "            (intermediate_act_fn): GELUActivation()\n",
              "          )\n",
              "          (output): BertOutput(\n",
              "            (dense): Linear(in_features=512, out_features=128, bias=True)\n",
              "            (LayerNorm): LayerNorm((128,), eps=1e-12, elementwise_affine=True)\n",
              "            (dropout): Dropout(p=0.1, inplace=False)\n",
              "          )\n",
              "        )\n",
              "      )\n",
              "    )\n",
              "    (pooler): BertPooler(\n",
              "      (dense): Linear(in_features=128, out_features=128, bias=True)\n",
              "      (activation): Tanh()\n",
              "    )\n",
              "  )\n",
              "  (dropout): Dropout(p=0.1, inplace=False)\n",
              "  (classifier): Linear(in_features=128, out_features=2, bias=True)\n",
              ")"
            ]
          },
          "execution_count": 32,
          "metadata": {},
          "output_type": "execute_result"
        }
      ],
      "source": [
        "device = torch.device('cuda') if torch.cuda.is_available() else torch.device('cpu')\n",
        "model3.to(device)"
      ]
    },
    {
      "cell_type": "code",
      "execution_count": 33,
      "metadata": {},
      "outputs": [
        {
          "name": "stdout",
          "output_type": "stream",
          "text": [
            "EPOCH 1/6...\n",
            "Generation of samples for data cartography...\n",
            "EPOCH 2/6...\n",
            "Generation of samples for data cartography...\n",
            "EPOCH 3/6...\n",
            "Generation of samples for data cartography...\n",
            "EPOCH 4/6...\n",
            "Generation of samples for data cartography...\n",
            "EPOCH 5/6...\n",
            "Generation of samples for data cartography...\n",
            "EPOCH 6/6...\n",
            "Generation of samples for data cartography...\n",
            "EPOCH 1/6...\n",
            "Generation of samples for data cartography...\n",
            "EPOCH 2/6...\n",
            "Generation of samples for data cartography...\n",
            "EPOCH 3/6...\n",
            "Generation of samples for data cartography...\n",
            "EPOCH 4/6...\n",
            "Generation of samples for data cartography...\n",
            "EPOCH 5/6...\n",
            "Generation of samples for data cartography...\n",
            "EPOCH 6/6...\n",
            "Generation of samples for data cartography...\n",
            "EPOCH 1/7...\n",
            "Generation of samples for data cartography...\n",
            "EPOCH 2/7...\n",
            "Generation of samples for data cartography...\n",
            "EPOCH 3/7...\n",
            "Generation of samples for data cartography...\n",
            "EPOCH 4/7...\n",
            "Generation of samples for data cartography...\n",
            "EPOCH 5/7...\n",
            "Generation of samples for data cartography...\n",
            "EPOCH 6/7...\n",
            "Generation of samples for data cartography...\n",
            "EPOCH 7/7...\n",
            "Generation of samples for data cartography...\n",
            "EPOCH 1/7...\n",
            "Generation of samples for data cartography...\n",
            "EPOCH 2/7...\n",
            "Generation of samples for data cartography...\n",
            "EPOCH 3/7...\n",
            "Generation of samples for data cartography...\n",
            "EPOCH 4/7...\n",
            "Generation of samples for data cartography...\n",
            "EPOCH 5/7...\n",
            "Generation of samples for data cartography...\n",
            "EPOCH 6/7...\n",
            "Generation of samples for data cartography...\n",
            "EPOCH 7/7...\n",
            "Generation of samples for data cartography...\n",
            "EPOCH 1/10...\n",
            "Generation of samples for data cartography...\n",
            "EPOCH 2/10...\n",
            "Generation of samples for data cartography...\n",
            "EPOCH 3/10...\n",
            "Generation of samples for data cartography...\n",
            "EPOCH 4/10...\n",
            "Generation of samples for data cartography...\n",
            "EPOCH 5/10...\n",
            "Generation of samples for data cartography...\n",
            "EPOCH 6/10...\n",
            "Generation of samples for data cartography...\n",
            "EPOCH 7/10...\n",
            "Generation of samples for data cartography...\n",
            "EPOCH 8/10...\n",
            "Generation of samples for data cartography...\n",
            "EPOCH 9/10...\n",
            "Generation of samples for data cartography...\n",
            "EPOCH 10/10...\n",
            "Generation of samples for data cartography...\n",
            "EPOCH 1/10...\n",
            "Generation of samples for data cartography...\n",
            "EPOCH 2/10...\n",
            "Generation of samples for data cartography...\n",
            "EPOCH 3/10...\n",
            "Generation of samples for data cartography...\n",
            "EPOCH 4/10...\n",
            "Generation of samples for data cartography...\n",
            "EPOCH 5/10...\n",
            "Generation of samples for data cartography...\n",
            "EPOCH 6/10...\n",
            "Generation of samples for data cartography...\n",
            "EPOCH 7/10...\n",
            "Generation of samples for data cartography...\n",
            "EPOCH 8/10...\n",
            "Generation of samples for data cartography...\n",
            "EPOCH 9/10...\n",
            "Generation of samples for data cartography...\n",
            "EPOCH 10/10...\n",
            "Generation of samples for data cartography...\n",
            "EPOCH 1/15...\n",
            "Generation of samples for data cartography...\n",
            "EPOCH 2/15...\n",
            "Generation of samples for data cartography...\n",
            "EPOCH 3/15...\n",
            "Generation of samples for data cartography...\n",
            "EPOCH 4/15...\n",
            "Generation of samples for data cartography...\n",
            "EPOCH 5/15...\n",
            "Generation of samples for data cartography...\n",
            "EPOCH 6/15...\n",
            "Generation of samples for data cartography...\n",
            "EPOCH 7/15...\n",
            "Generation of samples for data cartography...\n",
            "EPOCH 8/15...\n",
            "Generation of samples for data cartography...\n",
            "EPOCH 9/15...\n",
            "Generation of samples for data cartography...\n",
            "EPOCH 10/15...\n",
            "Generation of samples for data cartography...\n",
            "EPOCH 11/15...\n",
            "Generation of samples for data cartography...\n",
            "EPOCH 12/15...\n",
            "Generation of samples for data cartography...\n",
            "EPOCH 13/15...\n",
            "Generation of samples for data cartography...\n",
            "EPOCH 14/15...\n",
            "Generation of samples for data cartography...\n",
            "EPOCH 15/15...\n",
            "Generation of samples for data cartography...\n",
            "EPOCH 1/15...\n",
            "Generation of samples for data cartography...\n",
            "EPOCH 2/15...\n",
            "Generation of samples for data cartography...\n",
            "EPOCH 3/15...\n",
            "Generation of samples for data cartography...\n",
            "EPOCH 4/15...\n",
            "Generation of samples for data cartography...\n",
            "EPOCH 5/15...\n",
            "Generation of samples for data cartography...\n",
            "EPOCH 6/15...\n",
            "Generation of samples for data cartography...\n",
            "EPOCH 7/15...\n",
            "Generation of samples for data cartography...\n",
            "EPOCH 8/15...\n",
            "Generation of samples for data cartography...\n",
            "EPOCH 9/15...\n",
            "Generation of samples for data cartography...\n",
            "EPOCH 10/15...\n",
            "Generation of samples for data cartography...\n",
            "EPOCH 11/15...\n",
            "Generation of samples for data cartography...\n",
            "EPOCH 12/15...\n",
            "Generation of samples for data cartography...\n",
            "EPOCH 13/15...\n",
            "Generation of samples for data cartography...\n",
            "EPOCH 14/15...\n",
            "Generation of samples for data cartography...\n",
            "EPOCH 15/15...\n",
            "Generation of samples for data cartography...\n",
            "EPOCH 1/30...\n",
            "Generation of samples for data cartography...\n",
            "EPOCH 2/30...\n",
            "Generation of samples for data cartography...\n",
            "EPOCH 3/30...\n",
            "Generation of samples for data cartography...\n",
            "EPOCH 4/30...\n",
            "Generation of samples for data cartography...\n",
            "EPOCH 5/30...\n",
            "Generation of samples for data cartography...\n",
            "EPOCH 6/30...\n",
            "Generation of samples for data cartography...\n",
            "EPOCH 7/30...\n",
            "Generation of samples for data cartography...\n",
            "EPOCH 8/30...\n",
            "Generation of samples for data cartography...\n",
            "EPOCH 9/30...\n",
            "Generation of samples for data cartography...\n",
            "EPOCH 10/30...\n",
            "Generation of samples for data cartography...\n",
            "EPOCH 11/30...\n",
            "Generation of samples for data cartography...\n",
            "EPOCH 12/30...\n",
            "Generation of samples for data cartography...\n",
            "EPOCH 13/30...\n",
            "Generation of samples for data cartography...\n",
            "EPOCH 14/30...\n",
            "Generation of samples for data cartography...\n",
            "EPOCH 15/30...\n",
            "Generation of samples for data cartography...\n",
            "EPOCH 16/30...\n",
            "Generation of samples for data cartography...\n",
            "EPOCH 17/30...\n",
            "Generation of samples for data cartography...\n",
            "EPOCH 18/30...\n",
            "Generation of samples for data cartography...\n",
            "EPOCH 19/30...\n",
            "Generation of samples for data cartography...\n",
            "EPOCH 20/30...\n",
            "Generation of samples for data cartography...\n",
            "EPOCH 21/30...\n",
            "Generation of samples for data cartography...\n",
            "EPOCH 22/30...\n",
            "Generation of samples for data cartography...\n",
            "EPOCH 23/30...\n",
            "Generation of samples for data cartography...\n",
            "EPOCH 24/30...\n",
            "Generation of samples for data cartography...\n",
            "EPOCH 25/30...\n",
            "Generation of samples for data cartography...\n",
            "EPOCH 26/30...\n",
            "Generation of samples for data cartography...\n",
            "EPOCH 27/30...\n",
            "Generation of samples for data cartography...\n",
            "EPOCH 28/30...\n",
            "Generation of samples for data cartography...\n",
            "EPOCH 29/30...\n",
            "Generation of samples for data cartography...\n",
            "EPOCH 30/30...\n",
            "Generation of samples for data cartography...\n",
            "EPOCH 1/30...\n",
            "Generation of samples for data cartography...\n",
            "EPOCH 2/30...\n",
            "Generation of samples for data cartography...\n",
            "EPOCH 3/30...\n",
            "Generation of samples for data cartography...\n",
            "EPOCH 4/30...\n",
            "Generation of samples for data cartography...\n",
            "EPOCH 5/30...\n",
            "Generation of samples for data cartography...\n",
            "EPOCH 6/30...\n",
            "Generation of samples for data cartography...\n",
            "EPOCH 7/30...\n",
            "Generation of samples for data cartography...\n",
            "EPOCH 8/30...\n",
            "Generation of samples for data cartography...\n",
            "EPOCH 9/30...\n",
            "Generation of samples for data cartography...\n",
            "EPOCH 10/30...\n",
            "Generation of samples for data cartography...\n",
            "EPOCH 11/30...\n",
            "Generation of samples for data cartography...\n",
            "EPOCH 12/30...\n",
            "Generation of samples for data cartography...\n",
            "EPOCH 13/30...\n",
            "Generation of samples for data cartography...\n",
            "EPOCH 14/30...\n",
            "Generation of samples for data cartography...\n",
            "EPOCH 15/30...\n",
            "Generation of samples for data cartography...\n",
            "EPOCH 16/30...\n",
            "Generation of samples for data cartography...\n",
            "EPOCH 17/30...\n",
            "Generation of samples for data cartography...\n",
            "EPOCH 18/30...\n",
            "Generation of samples for data cartography...\n",
            "EPOCH 19/30...\n",
            "Generation of samples for data cartography...\n",
            "EPOCH 20/30...\n",
            "Generation of samples for data cartography...\n",
            "EPOCH 21/30...\n",
            "Generation of samples for data cartography...\n",
            "EPOCH 22/30...\n",
            "Generation of samples for data cartography...\n",
            "EPOCH 23/30...\n",
            "Generation of samples for data cartography...\n",
            "EPOCH 24/30...\n",
            "Generation of samples for data cartography...\n",
            "EPOCH 25/30...\n",
            "Generation of samples for data cartography...\n",
            "EPOCH 26/30...\n",
            "Generation of samples for data cartography...\n",
            "EPOCH 27/30...\n",
            "Generation of samples for data cartography...\n",
            "EPOCH 28/30...\n",
            "Generation of samples for data cartography...\n",
            "EPOCH 29/30...\n",
            "Generation of samples for data cartography...\n",
            "EPOCH 30/30...\n",
            "Generation of samples for data cartography...\n",
            "EPOCH 1/30...\n",
            "Generation of samples for data cartography...\n",
            "EPOCH 2/30...\n",
            "Generation of samples for data cartography...\n",
            "EPOCH 3/30...\n",
            "Generation of samples for data cartography...\n",
            "EPOCH 4/30...\n",
            "Generation of samples for data cartography...\n",
            "EPOCH 5/30...\n",
            "Generation of samples for data cartography...\n",
            "EPOCH 6/30...\n",
            "Generation of samples for data cartography...\n",
            "EPOCH 7/30...\n",
            "Generation of samples for data cartography...\n",
            "EPOCH 8/30...\n",
            "Generation of samples for data cartography...\n",
            "EPOCH 9/30...\n",
            "Generation of samples for data cartography...\n",
            "EPOCH 10/30...\n",
            "Generation of samples for data cartography...\n",
            "EPOCH 11/30...\n",
            "Generation of samples for data cartography...\n",
            "EPOCH 12/30...\n",
            "Generation of samples for data cartography...\n",
            "EPOCH 13/30...\n",
            "Generation of samples for data cartography...\n",
            "EPOCH 14/30...\n",
            "Generation of samples for data cartography...\n",
            "EPOCH 15/30...\n",
            "Generation of samples for data cartography...\n",
            "EPOCH 16/30...\n",
            "Generation of samples for data cartography...\n",
            "EPOCH 17/30...\n",
            "Generation of samples for data cartography...\n",
            "EPOCH 18/30...\n",
            "Generation of samples for data cartography...\n",
            "EPOCH 19/30...\n",
            "Generation of samples for data cartography...\n",
            "EPOCH 20/30...\n",
            "Generation of samples for data cartography...\n",
            "EPOCH 21/30...\n",
            "Generation of samples for data cartography...\n",
            "EPOCH 22/30...\n",
            "Generation of samples for data cartography...\n",
            "EPOCH 23/30...\n",
            "Generation of samples for data cartography...\n",
            "EPOCH 24/30...\n",
            "Generation of samples for data cartography...\n",
            "EPOCH 25/30...\n",
            "Generation of samples for data cartography...\n",
            "EPOCH 26/30...\n",
            "Generation of samples for data cartography...\n",
            "EPOCH 27/30...\n",
            "Generation of samples for data cartography...\n",
            "EPOCH 28/30...\n",
            "Generation of samples for data cartography...\n",
            "EPOCH 29/30...\n",
            "Generation of samples for data cartography...\n",
            "EPOCH 30/30...\n",
            "Generation of samples for data cartography...\n"
          ]
        }
      ],
      "source": [
        "history3 = []\n",
        "train_dyn3 = {}\n",
        "for i,loader in enumerate(loaders_curriculum):\n",
        "    history3.extend(trainer_AC(model3, device, optimizer, loss_fn, loader, EPOCHS//((11-i)//2), train_dyn3))\n",
        "history3.extend(trainer_AC(model3, device, optimizer, loss_fn, loaders_curriculum[-1], EPOCHS, train_dyn3))"
      ]
    },
    {
      "cell_type": "code",
      "execution_count": 34,
      "metadata": {},
      "outputs": [
        {
          "data": {
            "image/png": "[encoded data removed]",
            "text/plain": [
              "<Figure size 640x480 with 1 Axes>"
            ]
          },
          "metadata": {},
          "output_type": "display_data"
        }
      ],
      "source": [
        "plt.plot(history, c='r')\n",
        "plt.plot(history2, c='b')\n",
        "plt.plot(history3, c='g')\n",
        "plt.legend(['normal', 'curriculum', 'curriculum_aug'])\n",
        "plt.title(\"Learning error with augmented, curriculum-trained model\")\n",
        "plt.grid(True)\n",
        "plt.show();"
      ]
    },
    {
      "cell_type": "code",
      "execution_count": 41,
      "metadata": {},
      "outputs": [
        {
          "name": "stdout",
          "output_type": "stream",
          "text": [
            "              precision    recall  f1-score   support\n",
            "\n",
            "        prem       0.98      0.99      0.99       589\n",
            "        conc       0.85      0.70      0.77        40\n",
            "\n",
            "   micro avg       0.97      0.97      0.97       629\n",
            "   macro avg       0.91      0.85      0.88       629\n",
            "weighted avg       0.97      0.97      0.97       629\n",
            " samples avg       0.97      0.97      0.97       629\n",
            "\n"
          ]
        }
      ],
      "source": [
        "results3 = evaluation_run(model3, test_loader, device)\n",
        "results3 = pd.DataFrame(results3, columns=labels)\n",
        "print(classification_report(s_test[labels], results3, target_names=labels, zero_division=0.0))"
      ]
    },
    {
      "cell_type": "markdown",
      "metadata": {},
      "source": [
        "## Section 9 - Model with only Data Augmentation"
      ]
    },
    {
      "cell_type": "code",
      "execution_count": 36,
      "metadata": {},
      "outputs": [
        {
          "name": "stderr",
          "output_type": "stream",
          "text": [
            "Some weights of BertForSequenceClassification were not initialized from the model checkpoint at prajjwal1/bert-tiny and are newly initialized: ['classifier.weight', 'classifier.bias']\n",
            "You should probably TRAIN this model on a down-stream task to be able to use it for predictions and inference.\n"
          ]
        }
      ],
      "source": [
        "model4 = AutoModelForSequenceClassification.from_pretrained(CARD, num_labels = len(labels), problem_type='multi_label_classification')\n",
        "for param in model4.bert.embeddings.parameters(): # We don't want to train the first layer\n",
        "    param.requires_grad = False\n",
        "for param in model4.bert.encoder.parameters():\n",
        "    param.requires_grad = False\n",
        "optimizer = torch.optim.AdamW(model4.parameters(), lr=LEARNING_RATE, weight_decay=1e-5)\n",
        "optimizer.zero_grad()\n",
        "loss_fn = torch.nn.BCEWithLogitsLoss()"
      ]
    },
    {
      "cell_type": "code",
      "execution_count": 37,
      "metadata": {},
      "outputs": [],
      "source": [
        "dataset_aug = Sentences_Dataset(sentences, tokenizer, labels, max_len=MAX_LEN)\n",
        "loader_aug = DataLoader(dataset_aug, batch_size=TRAIN_BATCH_SIZE, shuffle=True, pin_memory=True)"
      ]
    },
    {
      "cell_type": "code",
      "execution_count": 38,
      "metadata": {},
      "outputs": [
        {
          "name": "stdout",
          "output_type": "stream",
          "text": [
            "EPOCH 1/90...\n",
            "Generation of samples for data cartography...\n",
            "EPOCH 2/90...\n",
            "Generation of samples for data cartography...\n",
            "EPOCH 3/90...\n",
            "Generation of samples for data cartography...\n",
            "EPOCH 4/90...\n",
            "Generation of samples for data cartography...\n",
            "EPOCH 5/90...\n",
            "Generation of samples for data cartography...\n",
            "EPOCH 6/90...\n",
            "Generation of samples for data cartography...\n",
            "EPOCH 7/90...\n",
            "Generation of samples for data cartography...\n",
            "EPOCH 8/90...\n",
            "Generation of samples for data cartography...\n",
            "EPOCH 9/90...\n",
            "Generation of samples for data cartography...\n",
            "EPOCH 10/90...\n",
            "Generation of samples for data cartography...\n",
            "EPOCH 11/90...\n",
            "Generation of samples for data cartography...\n",
            "EPOCH 12/90...\n",
            "Generation of samples for data cartography...\n",
            "EPOCH 13/90...\n",
            "Generation of samples for data cartography...\n",
            "EPOCH 14/90...\n",
            "Generation of samples for data cartography...\n",
            "EPOCH 15/90...\n",
            "Generation of samples for data cartography...\n",
            "EPOCH 16/90...\n",
            "Generation of samples for data cartography...\n",
            "EPOCH 17/90...\n",
            "Generation of samples for data cartography...\n",
            "EPOCH 18/90...\n",
            "Generation of samples for data cartography...\n",
            "EPOCH 19/90...\n",
            "Generation of samples for data cartography...\n",
            "EPOCH 20/90...\n",
            "Generation of samples for data cartography...\n",
            "EPOCH 21/90...\n",
            "Generation of samples for data cartography...\n",
            "EPOCH 22/90...\n",
            "Generation of samples for data cartography...\n",
            "EPOCH 23/90...\n",
            "Generation of samples for data cartography...\n",
            "EPOCH 24/90...\n",
            "Generation of samples for data cartography...\n",
            "EPOCH 25/90...\n",
            "Generation of samples for data cartography...\n",
            "EPOCH 26/90...\n",
            "Generation of samples for data cartography...\n",
            "EPOCH 27/90...\n",
            "Generation of samples for data cartography...\n",
            "EPOCH 28/90...\n",
            "Generation of samples for data cartography...\n",
            "EPOCH 29/90...\n",
            "Generation of samples for data cartography...\n",
            "EPOCH 30/90...\n",
            "Generation of samples for data cartography...\n",
            "EPOCH 31/90...\n",
            "Generation of samples for data cartography...\n",
            "EPOCH 32/90...\n",
            "Generation of samples for data cartography...\n",
            "EPOCH 33/90...\n",
            "Generation of samples for data cartography...\n",
            "EPOCH 34/90...\n",
            "Generation of samples for data cartography...\n",
            "EPOCH 35/90...\n",
            "Generation of samples for data cartography...\n",
            "EPOCH 36/90...\n",
            "Generation of samples for data cartography...\n",
            "EPOCH 37/90...\n",
            "Generation of samples for data cartography...\n",
            "EPOCH 38/90...\n",
            "Generation of samples for data cartography...\n",
            "EPOCH 39/90...\n",
            "Generation of samples for data cartography...\n",
            "EPOCH 40/90...\n",
            "Generation of samples for data cartography...\n",
            "EPOCH 41/90...\n",
            "Generation of samples for data cartography...\n",
            "EPOCH 42/90...\n",
            "Generation of samples for data cartography...\n",
            "EPOCH 43/90...\n",
            "Generation of samples for data cartography...\n",
            "EPOCH 44/90...\n",
            "Generation of samples for data cartography...\n",
            "EPOCH 45/90...\n",
            "Generation of samples for data cartography...\n",
            "EPOCH 46/90...\n",
            "Generation of samples for data cartography...\n",
            "EPOCH 47/90...\n",
            "Generation of samples for data cartography...\n",
            "EPOCH 48/90...\n",
            "Generation of samples for data cartography...\n",
            "EPOCH 49/90...\n",
            "Generation of samples for data cartography...\n",
            "EPOCH 50/90...\n",
            "Generation of samples for data cartography...\n",
            "EPOCH 51/90...\n",
            "Generation of samples for data cartography...\n",
            "EPOCH 52/90...\n",
            "Generation of samples for data cartography...\n",
            "EPOCH 53/90...\n",
            "Generation of samples for data cartography...\n",
            "EPOCH 54/90...\n",
            "Generation of samples for data cartography...\n",
            "EPOCH 55/90...\n",
            "Generation of samples for data cartography...\n",
            "EPOCH 56/90...\n",
            "Generation of samples for data cartography...\n",
            "EPOCH 57/90...\n",
            "Generation of samples for data cartography...\n",
            "EPOCH 58/90...\n",
            "Generation of samples for data cartography...\n",
            "EPOCH 59/90...\n",
            "Generation of samples for data cartography...\n",
            "EPOCH 60/90...\n",
            "Generation of samples for data cartography...\n",
            "EPOCH 61/90...\n",
            "Generation of samples for data cartography...\n",
            "EPOCH 62/90...\n",
            "Generation of samples for data cartography...\n",
            "EPOCH 63/90...\n",
            "Generation of samples for data cartography...\n",
            "EPOCH 64/90...\n",
            "Generation of samples for data cartography...\n",
            "EPOCH 65/90...\n",
            "Generation of samples for data cartography...\n",
            "EPOCH 66/90...\n",
            "Generation of samples for data cartography...\n",
            "EPOCH 67/90...\n",
            "Generation of samples for data cartography...\n",
            "EPOCH 68/90...\n",
            "Generation of samples for data cartography...\n",
            "EPOCH 69/90...\n",
            "Generation of samples for data cartography...\n",
            "EPOCH 70/90...\n",
            "Generation of samples for data cartography...\n",
            "EPOCH 71/90...\n",
            "Generation of samples for data cartography...\n",
            "EPOCH 72/90...\n",
            "Generation of samples for data cartography...\n",
            "EPOCH 73/90...\n",
            "Generation of samples for data cartography...\n",
            "EPOCH 74/90...\n",
            "Generation of samples for data cartography...\n",
            "EPOCH 75/90...\n",
            "Generation of samples for data cartography...\n",
            "EPOCH 76/90...\n",
            "Generation of samples for data cartography...\n",
            "EPOCH 77/90...\n",
            "Generation of samples for data cartography...\n",
            "EPOCH 78/90...\n",
            "Generation of samples for data cartography...\n",
            "EPOCH 79/90...\n",
            "Generation of samples for data cartography...\n",
            "EPOCH 80/90...\n",
            "Generation of samples for data cartography...\n",
            "EPOCH 81/90...\n",
            "Generation of samples for data cartography...\n",
            "EPOCH 82/90...\n",
            "Generation of samples for data cartography...\n",
            "EPOCH 83/90...\n",
            "Generation of samples for data cartography...\n",
            "EPOCH 84/90...\n",
            "Generation of samples for data cartography...\n",
            "EPOCH 85/90...\n",
            "Generation of samples for data cartography...\n",
            "EPOCH 86/90...\n",
            "Generation of samples for data cartography...\n",
            "EPOCH 87/90...\n",
            "Generation of samples for data cartography...\n",
            "EPOCH 88/90...\n",
            "Generation of samples for data cartography...\n",
            "EPOCH 89/90...\n",
            "Generation of samples for data cartography...\n",
            "EPOCH 90/90...\n",
            "Generation of samples for data cartography...\n"
          ]
        }
      ],
      "source": [
        "train_dyn4 = {}\n",
        "history4 = trainer_AC(model4, device, optimizer, loss_fn, loader, EPOCHS*3, train_dyn4)"
      ]
    },
    {
      "cell_type": "code",
      "execution_count": 39,
      "metadata": {},
      "outputs": [
        {
          "data": {
            "image/png": "[encoded data removed]",
            "text/plain": [
              "<Figure size 640x480 with 1 Axes>"
            ]
          },
          "metadata": {},
          "output_type": "display_data"
        }
      ],
      "source": [
        "plt.plot(history, c='r')\n",
        "plt.plot(history2, c='b')\n",
        "plt.plot(history3, c='g')\n",
        "plt.plot(history4, c='y')\n",
        "plt.legend(['normal', 'curriculum', 'curriculum_aug', 'augmented'])\n",
        "plt.title(\"Learning error with augmented model\")\n",
        "plt.grid(True)\n",
        "plt.show();"
      ]
    },
    {
      "cell_type": "code",
      "execution_count": 42,
      "metadata": {},
      "outputs": [
        {
          "name": "stdout",
          "output_type": "stream",
          "text": [
            "              precision    recall  f1-score   support\n",
            "\n",
            "        prem       0.98      0.99      0.98       589\n",
            "        conc       0.82      0.70      0.76        40\n",
            "\n",
            "   micro avg       0.97      0.97      0.97       629\n",
            "   macro avg       0.90      0.84      0.87       629\n",
            "weighted avg       0.97      0.97      0.97       629\n",
            " samples avg       0.97      0.97      0.97       629\n",
            "\n"
          ]
        }
      ],
      "source": [
        "results4 = evaluation_run(model4, test_loader, device)\n",
        "results4 = pd.DataFrame(results4, columns=labels)\n",
        "print(classification_report(s_test[labels], results4, target_names=labels, zero_division=0.0))"
      ]
    }
  ],
  "metadata": {
    "accelerator": "GPU",
    "colab": {
      "gpuType": "T4",
      "provenance": []
    },
    "kernelspec": {
      "display_name": "Python 3",
      "name": "python3"
    },
    "language_info": {
      "codemirror_mode": {
        "name": "ipython",
        "version": 3
      },
      "file_extension": ".py",
      "mimetype": "text/x-python",
      "name": "python",
      "nbconvert_exporter": "python",
      "pygments_lexer": "ipython3",
      "version": "3.11.5"
    }
  },
  "nbformat": 4,
  "nbformat_minor": 0
}
