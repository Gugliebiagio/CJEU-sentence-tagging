{
  "cells": [
    {
      "cell_type": "markdown",
      "metadata": {
        "id": "W2_9ZkjgCtpy"
      },
      "source": [
        "\n",
        "# Data cartography for the Type Classification task\n"
      ]
    },
    {
      "cell_type": "markdown",
      "metadata": {
        "id": "IUpo4SYbCtp1"
      },
      "source": [
        "## Section 0 - imports, constants, and notebook set-up"
      ]
    },
    {
      "cell_type": "code",
      "execution_count": 1,
      "metadata": {
        "id": "PjeFs-FICtp2"
      },
      "outputs": [
        {
          "name": "stderr",
          "output_type": "stream",
          "text": [
            "[nltk_data] Downloading package stopwords to\n",
            "[nltk_data]     /Users/angelo/nltk_data...\n",
            "[nltk_data]   Package stopwords is already up-to-date!\n",
            "[nltk_data] Downloading package punkt to /Users/angelo/nltk_data...\n",
            "[nltk_data]   Package punkt is already up-to-date!\n",
            "[nltk_data] Downloading package averaged_perceptron_tagger to\n",
            "[nltk_data]     /Users/angelo/nltk_data...\n",
            "[nltk_data]   Package averaged_perceptron_tagger is already up-to-\n",
            "[nltk_data]       date!\n",
            "[nltk_data] Downloading package wordnet to /Users/angelo/nltk_data...\n",
            "[nltk_data]   Package wordnet is already up-to-date!\n",
            "[nltk_data] Downloading package omw-1.4 to /Users/angelo/nltk_data...\n",
            "[nltk_data]   Package omw-1.4 is already up-to-date!\n"
          ]
        }
      ],
      "source": [
        "# Library imports\n",
        "### Utility\n",
        "import os\n",
        "from pathlib import Path\n",
        "from utils import download_dataset, extract_dataset, compute_metrics, trainer_TC, evaluation_run, plot_data_map, Sentences_Dataset, hard_to_learn, synonyms, mostsimilar, cleanline\n",
        "import urllib\n",
        "import zipfile\n",
        "import re\n",
        "\n",
        "### Datascience\n",
        "import pandas as pd\n",
        "from transformers import AutoModelForSequenceClassification, AutoTokenizer\n",
        "import torch\n",
        "from torch.utils.data import Dataset, DataLoader\n",
        "import numpy as np\n",
        "from sklearn.preprocessing import MultiLabelBinarizer\n",
        "from sklearn.metrics import classification_report\n",
        "from sklearn.model_selection import train_test_split\n",
        "import nltk\n",
        "from nltk.corpus import stopwords\n",
        "\n",
        "### Plotting\n",
        "import matplotlib.pyplot as plt\n",
        "import seaborn as sns\n",
        "\n",
        "# Nltk download\n",
        "nltk.download('stopwords')\n",
        "nltk.download('punkt')\n",
        "nltk.download('averaged_perceptron_tagger')\n",
        "nltk.download('wordnet')\n",
        "nltk.download('omw-1.4')\n",
        "stop_words = set(stopwords.words('english'))"
      ]
    },
    {
      "cell_type": "code",
      "execution_count": 2,
      "metadata": {
        "id": "z_1sdNkHCtp4"
      },
      "outputs": [],
      "source": [
        "# Set of constant used, you can choose which to use below\n",
        "SEEDS = [42, 69, 420, 42069, 69420]\n",
        "CARD_DICT = {\"sentence\":\"sentence-transformers/bert-base-nli-mean-tokens\",\n",
        "             \"legal\":\"nlpaueb/legal-bert-small-uncased\",\n",
        "             \"tiny\":\"prajjwal1/bert-tiny\"\n",
        "            }"
      ]
    },
    {
      "cell_type": "code",
      "execution_count": 3,
      "metadata": {
        "id": "uYIk3tTqCtp4"
      },
      "outputs": [],
      "source": [
        "# Constant setting --- you can change these\n",
        "SEED_IDX = 0\n",
        "CARD_KEY = \"tiny\"\n",
        "MAX_LEN = 128\n",
        "TRAIN_BATCH_SIZE = 32\n",
        "EPOCHS = 30\n",
        "LEARNING_RATE = 2e-4"
      ]
    },
    {
      "cell_type": "code",
      "execution_count": 4,
      "metadata": {
        "id": "llGns09_Ctp5"
      },
      "outputs": [],
      "source": [
        "# Constant derivation settings --- DO NOT TOUCH\n",
        "SEED = SEEDS[SEED_IDX]\n",
        "CARD = CARD_DICT.get(CARD_KEY, \"nlpaueb/legal-bert-small-uncased\")\n",
        "torch.manual_seed(SEED);\n",
        "np.random.seed(SEED);"
      ]
    },
    {
      "cell_type": "markdown",
      "metadata": {
        "id": "WcjChx2PCtp5"
      },
      "source": [
        "## Section 1 - Dataset(s) import & manipulation"
      ]
    },
    {
      "cell_type": "markdown",
      "metadata": {},
      "source": [
        "### 1.1 - Glove Download"
      ]
    },
    {
      "cell_type": "code",
      "execution_count": 5,
      "metadata": {},
      "outputs": [
        {
          "name": "stdout",
          "output_type": "stream",
          "text": [
            "GloVe embeddings downloaded and extracted.\n"
          ]
        }
      ],
      "source": [
        "# GloVe embedding download\n",
        "glove_url = \"https://nlp.stanford.edu/data/glove.6B.zip\"\n",
        "glove_dir = \"glove.6B\"\n",
        "if not os.path.isdir(os.path.join(os.getcwd(), glove_dir)):\n",
        "    urllib.request.urlretrieve(glove_url, \"glove.6B.zip\")\n",
        "    with zipfile.ZipFile(\"glove.6B.zip\", \"r\") as zip_ref:\n",
        "        zip_ref.extractall(\"glove.6B\")\n",
        "\n",
        "    os.remove(\"glove.6B.zip\")\n",
        "\n",
        "print(\"GloVe embeddings downloaded and extracted.\")\n",
        "\n",
        "embeddings = {}\n",
        "\n",
        "for file_name in os.listdir(glove_dir):\n",
        "    file_path = os.path.join(glove_dir, file_name)\n",
        "\n",
        "    with open(file_path, 'r', encoding=\"utf8\") as f_glove:\n",
        "        for line in f_glove:\n",
        "            entries = line.split()\n",
        "            wordvector = np.asarray(entries[1:], \"float32\")\n",
        "            embeddings[entries[0]] = wordvector"
      ]
    },
    {
      "cell_type": "markdown",
      "metadata": {},
      "source": [
        "### 1.2 - Import of demosthenes library"
      ]
    },
    {
      "cell_type": "code",
      "execution_count": 6,
      "metadata": {},
      "outputs": [],
      "source": [
        "url = \"https://github.com/engibengi/demosthenes/archive/main.zip\"\n",
        "\n",
        "dataset_name = \"demosthenes-main\"\n",
        "\n",
        "dataset_zip_path = Path.cwd().joinpath(\"demosthenes-main.zip\")\n",
        "dataset_path = Path.cwd().joinpath(dataset_name)\n",
        "\n",
        "if not dataset_zip_path.exists():\n",
        "    download_dataset(dataset_zip_path, url)\n",
        "\n",
        "if not dataset_path.exists():\n",
        "    extract_dataset(dataset_zip_path, Path.cwd())"
      ]
    },
    {
      "cell_type": "markdown",
      "metadata": {
        "id": "mOiCjqBrCtp5"
      },
      "source": [
        "### 1.3 - Conversion of xml to json & creation of .pkl datasets"
      ]
    },
    {
      "cell_type": "code",
      "execution_count": 7,
      "metadata": {},
      "outputs": [],
      "source": [
        "%%capture\n",
        "%cd ./$dataset_name\n",
        "%run ./xmlToJson.py # Transform xml dataset into a json one using the dataset utilities\n",
        "%run ./create_df.py # Create .pkl dataframe from dataset\n",
        "%cd ./.."
      ]
    },
    {
      "cell_type": "markdown",
      "metadata": {
        "id": "cHhKlWA9Ctp6"
      },
      "source": [
        "### 1.4 - import of .pkl datasets"
      ]
    },
    {
      "cell_type": "code",
      "execution_count": 8,
      "metadata": {
        "id": "U332fy65Ctp6"
      },
      "outputs": [],
      "source": [
        "annotations = pd.read_pickle(os.path.join(Path.cwd(), dataset_name, 'df_annotations.pkl'))\n",
        "#sentences = pd.read_pickle(os.path.join(Path.cwd(), dataset_name, 'df_sentences.pkl'))"
      ]
    },
    {
      "cell_type": "markdown",
      "metadata": {},
      "source": [
        "### 1.5 - Remove Non-Premise sentences"
      ]
    },
    {
      "cell_type": "code",
      "execution_count": 9,
      "metadata": {
        "colab": {
          "base_uri": "https://localhost:8080/",
          "height": 206
        },
        "id": "2vUsSz1TD5s7",
        "outputId": "4dab178a-297f-4e07-f063-2ea9c76a8a54"
      },
      "outputs": [],
      "source": [
        "premises=annotations[annotations['Name']=='prem']"
      ]
    },
    {
      "cell_type": "markdown",
      "metadata": {},
      "source": [
        "### 1.6 - Creation of classes and labels in dataframe"
      ]
    },
    {
      "cell_type": "code",
      "execution_count": 10,
      "metadata": {
        "id": "ENOOuUEjd96t"
      },
      "outputs": [],
      "source": [
        "premises = premises.copy()\n",
        "condition = (premises['Type'] != 'F') & (premises['Type'] != 'L')\n",
        "premises.loc[condition, 'Type'] = 'F,L'\n",
        "\n",
        "# Sample DataFrame\n",
        "premises = premises.copy()\n",
        "# Create an instance of MultiLabelBinarizer\n",
        "mlb = MultiLabelBinarizer()\n",
        "# Fit and transform the 'Type' column\n",
        "transformed_labels = mlb.fit_transform(premises['Type'].str.split(','))\n",
        "\n",
        "\n",
        "for col,name in enumerate(mlb.classes_):\n",
        "  premises[name] = transformed_labels[:,col]\n",
        "premises.drop(columns='Type')\n",
        "# premises.insert(0,'ID',premises.index)\n",
        "\n",
        "(premises, p_test) = train_test_split(premises, test_size = 0.3)\n",
        "premises.reset_index(drop=True, inplace=True)\n",
        "p_test.reset_index(drop=True, inplace=True)"
      ]
    },
    {
      "cell_type": "code",
      "execution_count": 11,
      "metadata": {
        "id": "Jvl99lWHhjIu"
      },
      "outputs": [],
      "source": [
        "labels=[i for i in mlb.classes_]"
      ]
    },
    {
      "cell_type": "markdown",
      "metadata": {
        "id": "A_t27mgrCtp8"
      },
      "source": [
        "## Section 2 - Model(s) import & set-up"
      ]
    },
    {
      "cell_type": "code",
      "execution_count": 12,
      "metadata": {
        "colab": {
          "base_uri": "https://localhost:8080/",
          "height": 212,
          "referenced_widgets": [
            "7dc1fb31de9c46578e335f8c78620d6f",
            "2f11f8189b2147ffaaf139efd297e5ad",
            "838389f6886446b0bada3aa7df41ce4d",
            "064368a307a9474eb37e65b68a9cf7ad",
            "af4eb009160d4b0fad2410473baf1739",
            "3014ef31f3654fd8bc73f26143a6b6f9",
            "e012e5c8531b43689de87630f61dde94",
            "ad74857b48d3414facbbb5d300291d32",
            "4bb47420eac141de853a7a42968df9f5",
            "999ba349947742029ab24d3f2847f4b7",
            "55fe91c6c4e94199ad866a122d6db9aa"
          ]
        },
        "id": "kDz36PajCtp8",
        "outputId": "8db4a222-6302-4422-a542-b9d6cdc98b95"
      },
      "outputs": [
        {
          "name": "stderr",
          "output_type": "stream",
          "text": [
            "Some weights of BertForSequenceClassification were not initialized from the model checkpoint at prajjwal1/bert-tiny and are newly initialized: ['classifier.weight', 'classifier.bias']\n",
            "You should probably TRAIN this model on a down-stream task to be able to use it for predictions and inference.\n"
          ]
        }
      ],
      "source": [
        "tokenizer = AutoTokenizer.from_pretrained(CARD)\n",
        "model = AutoModelForSequenceClassification.from_pretrained(CARD, num_labels = len(labels), problem_type='multi_label_classification')\n",
        "for param in model.bert.embeddings.parameters():\n",
        "    param.requires_grad = False\n",
        "optimizer = torch.optim.AdamW(model.parameters(), lr=LEARNING_RATE, weight_decay=1e-5)\n",
        "optimizer.zero_grad()\n",
        "loss_fn = torch.nn.BCEWithLogitsLoss()"
      ]
    },
    {
      "cell_type": "markdown",
      "metadata": {
        "id": "dIpX1sE8Ctp9"
      },
      "source": [
        "## Section 3 - Model(s) training"
      ]
    },
    {
      "cell_type": "code",
      "execution_count": 13,
      "metadata": {
        "id": "Zb-zIasDCtp9"
      },
      "outputs": [],
      "source": [
        "dataset = Sentences_Dataset(premises, tokenizer, labels, max_len=MAX_LEN)\n",
        "test_dataset = Sentences_Dataset(p_test, tokenizer, labels, max_len=MAX_LEN)\n",
        "loader = DataLoader(dataset, batch_size=TRAIN_BATCH_SIZE, shuffle=True, pin_memory=True)\n",
        "test_loader = DataLoader(test_dataset, batch_size=TRAIN_BATCH_SIZE, shuffle=False, pin_memory=True)"
      ]
    },
    {
      "cell_type": "code",
      "execution_count": 14,
      "metadata": {
        "colab": {
          "base_uri": "https://localhost:8080/"
        },
        "id": "m148jDOBCtp9",
        "outputId": "859033dc-c5b4-478d-87cf-19a640579150"
      },
      "outputs": [
        {
          "data": {
            "text/plain": [
              "BertForSequenceClassification(\n",
              "  (bert): BertModel(\n",
              "    (embeddings): BertEmbeddings(\n",
              "      (word_embeddings): Embedding(30522, 128, padding_idx=0)\n",
              "      (position_embeddings): Embedding(512, 128)\n",
              "      (token_type_embeddings): Embedding(2, 128)\n",
              "      (LayerNorm): LayerNorm((128,), eps=1e-12, elementwise_affine=True)\n",
              "      (dropout): Dropout(p=0.1, inplace=False)\n",
              "    )\n",
              "    (encoder): BertEncoder(\n",
              "      (layer): ModuleList(\n",
              "        (0-1): 2 x BertLayer(\n",
              "          (attention): BertAttention(\n",
              "            (self): BertSelfAttention(\n",
              "              (query): Linear(in_features=128, out_features=128, bias=True)\n",
              "              (key): Linear(in_features=128, out_features=128, bias=True)\n",
              "              (value): Linear(in_features=128, out_features=128, bias=True)\n",
              "              (dropout): Dropout(p=0.1, inplace=False)\n",
              "            )\n",
              "            (output): BertSelfOutput(\n",
              "              (dense): Linear(in_features=128, out_features=128, bias=True)\n",
              "              (LayerNorm): LayerNorm((128,), eps=1e-12, elementwise_affine=True)\n",
              "              (dropout): Dropout(p=0.1, inplace=False)\n",
              "            )\n",
              "          )\n",
              "          (intermediate): BertIntermediate(\n",
              "            (dense): Linear(in_features=128, out_features=512, bias=True)\n",
              "            (intermediate_act_fn): GELUActivation()\n",
              "          )\n",
              "          (output): BertOutput(\n",
              "            (dense): Linear(in_features=512, out_features=128, bias=True)\n",
              "            (LayerNorm): LayerNorm((128,), eps=1e-12, elementwise_affine=True)\n",
              "            (dropout): Dropout(p=0.1, inplace=False)\n",
              "          )\n",
              "        )\n",
              "      )\n",
              "    )\n",
              "    (pooler): BertPooler(\n",
              "      (dense): Linear(in_features=128, out_features=128, bias=True)\n",
              "      (activation): Tanh()\n",
              "    )\n",
              "  )\n",
              "  (dropout): Dropout(p=0.1, inplace=False)\n",
              "  (classifier): Linear(in_features=128, out_features=2, bias=True)\n",
              ")"
            ]
          },
          "execution_count": 14,
          "metadata": {},
          "output_type": "execute_result"
        }
      ],
      "source": [
        "device = torch.device('cuda') if torch.cuda.is_available() else torch.device('cpu')\n",
        "model.to(device)"
      ]
    },
    {
      "cell_type": "code",
      "execution_count": 15,
      "metadata": {
        "id": "7w204ufBCtp9"
      },
      "outputs": [],
      "source": [
        "train_dyn = {}"
      ]
    },
    {
      "cell_type": "markdown",
      "metadata": {
        "id": "A_AMN1VWy-XI"
      },
      "source": [
        "### Training"
      ]
    },
    {
      "cell_type": "code",
      "execution_count": 16,
      "metadata": {
        "colab": {
          "base_uri": "https://localhost:8080/"
        },
        "id": "bSg5qUo5ya5z",
        "outputId": "68407eaf-0aa1-480c-d491-c5961cca2b02"
      },
      "outputs": [
        {
          "name": "stdout",
          "output_type": "stream",
          "text": [
            "EPOCH 1/90...\n",
            "Generation of samples for data cartography...\n",
            "EPOCH 2/90...\n",
            "Generation of samples for data cartography...\n",
            "EPOCH 3/90...\n",
            "Generation of samples for data cartography...\n",
            "EPOCH 4/90...\n",
            "Generation of samples for data cartography...\n",
            "EPOCH 5/90...\n",
            "Generation of samples for data cartography...\n",
            "EPOCH 6/90...\n",
            "Generation of samples for data cartography...\n",
            "EPOCH 7/90...\n",
            "Generation of samples for data cartography...\n",
            "EPOCH 8/90...\n",
            "Generation of samples for data cartography...\n",
            "EPOCH 9/90...\n",
            "Generation of samples for data cartography...\n",
            "EPOCH 10/90...\n",
            "Generation of samples for data cartography...\n",
            "EPOCH 11/90...\n",
            "Generation of samples for data cartography...\n",
            "EPOCH 12/90...\n",
            "Generation of samples for data cartography...\n",
            "EPOCH 13/90...\n",
            "Generation of samples for data cartography...\n",
            "EPOCH 14/90...\n",
            "Generation of samples for data cartography...\n",
            "EPOCH 15/90...\n",
            "Generation of samples for data cartography...\n",
            "EPOCH 16/90...\n",
            "Generation of samples for data cartography...\n",
            "EPOCH 17/90...\n",
            "Generation of samples for data cartography...\n",
            "EPOCH 18/90...\n",
            "Generation of samples for data cartography...\n",
            "EPOCH 19/90...\n",
            "Generation of samples for data cartography...\n",
            "EPOCH 20/90...\n",
            "Generation of samples for data cartography...\n",
            "EPOCH 21/90...\n",
            "Generation of samples for data cartography...\n",
            "EPOCH 22/90...\n",
            "Generation of samples for data cartography...\n",
            "EPOCH 23/90...\n",
            "Generation of samples for data cartography...\n",
            "EPOCH 24/90...\n",
            "Generation of samples for data cartography...\n",
            "EPOCH 25/90...\n",
            "Generation of samples for data cartography...\n",
            "EPOCH 26/90...\n",
            "Generation of samples for data cartography...\n",
            "EPOCH 27/90...\n",
            "Generation of samples for data cartography...\n",
            "EPOCH 28/90...\n",
            "Generation of samples for data cartography...\n",
            "EPOCH 29/90...\n",
            "Generation of samples for data cartography...\n",
            "EPOCH 30/90...\n",
            "Generation of samples for data cartography...\n",
            "EPOCH 31/90...\n",
            "Generation of samples for data cartography...\n",
            "EPOCH 32/90...\n",
            "Generation of samples for data cartography...\n",
            "EPOCH 33/90...\n",
            "Generation of samples for data cartography...\n",
            "EPOCH 34/90...\n",
            "Generation of samples for data cartography...\n",
            "EPOCH 35/90...\n",
            "Generation of samples for data cartography...\n",
            "EPOCH 36/90...\n",
            "Generation of samples for data cartography...\n",
            "EPOCH 37/90...\n",
            "Generation of samples for data cartography...\n",
            "EPOCH 38/90...\n",
            "Generation of samples for data cartography...\n",
            "EPOCH 39/90...\n",
            "Generation of samples for data cartography...\n",
            "EPOCH 40/90...\n",
            "Generation of samples for data cartography...\n",
            "EPOCH 41/90...\n",
            "Generation of samples for data cartography...\n",
            "EPOCH 42/90...\n",
            "Generation of samples for data cartography...\n",
            "EPOCH 43/90...\n",
            "Generation of samples for data cartography...\n",
            "EPOCH 44/90...\n",
            "Generation of samples for data cartography...\n",
            "EPOCH 45/90...\n",
            "Generation of samples for data cartography...\n",
            "EPOCH 46/90...\n",
            "Generation of samples for data cartography...\n",
            "EPOCH 47/90...\n",
            "Generation of samples for data cartography...\n",
            "EPOCH 48/90...\n",
            "Generation of samples for data cartography...\n",
            "EPOCH 49/90...\n",
            "Generation of samples for data cartography...\n",
            "EPOCH 50/90...\n",
            "Generation of samples for data cartography...\n",
            "EPOCH 51/90...\n",
            "Generation of samples for data cartography...\n",
            "EPOCH 52/90...\n",
            "Generation of samples for data cartography...\n",
            "EPOCH 53/90...\n",
            "Generation of samples for data cartography...\n",
            "EPOCH 54/90...\n",
            "Generation of samples for data cartography...\n",
            "EPOCH 55/90...\n",
            "Generation of samples for data cartography...\n",
            "EPOCH 56/90...\n",
            "Generation of samples for data cartography...\n",
            "EPOCH 57/90...\n",
            "Generation of samples for data cartography...\n",
            "EPOCH 58/90...\n",
            "Generation of samples for data cartography...\n",
            "EPOCH 59/90...\n",
            "Generation of samples for data cartography...\n",
            "EPOCH 60/90...\n",
            "Generation of samples for data cartography...\n",
            "EPOCH 61/90...\n",
            "Generation of samples for data cartography...\n",
            "EPOCH 62/90...\n",
            "Generation of samples for data cartography...\n",
            "EPOCH 63/90...\n",
            "Generation of samples for data cartography...\n",
            "EPOCH 64/90...\n",
            "Generation of samples for data cartography...\n",
            "EPOCH 65/90...\n",
            "Generation of samples for data cartography...\n",
            "EPOCH 66/90...\n",
            "Generation of samples for data cartography...\n",
            "EPOCH 67/90...\n",
            "Generation of samples for data cartography...\n",
            "EPOCH 68/90...\n",
            "Generation of samples for data cartography...\n",
            "EPOCH 69/90...\n",
            "Generation of samples for data cartography...\n",
            "EPOCH 70/90...\n",
            "Generation of samples for data cartography...\n",
            "EPOCH 71/90...\n",
            "Generation of samples for data cartography...\n",
            "EPOCH 72/90...\n",
            "Generation of samples for data cartography...\n",
            "EPOCH 73/90...\n",
            "Generation of samples for data cartography...\n",
            "EPOCH 74/90...\n",
            "Generation of samples for data cartography...\n",
            "EPOCH 75/90...\n",
            "Generation of samples for data cartography...\n",
            "EPOCH 76/90...\n",
            "Generation of samples for data cartography...\n",
            "EPOCH 77/90...\n",
            "Generation of samples for data cartography...\n",
            "EPOCH 78/90...\n",
            "Generation of samples for data cartography...\n",
            "EPOCH 79/90...\n",
            "Generation of samples for data cartography...\n",
            "EPOCH 80/90...\n",
            "Generation of samples for data cartography...\n",
            "EPOCH 81/90...\n",
            "Generation of samples for data cartography...\n",
            "EPOCH 82/90...\n",
            "Generation of samples for data cartography...\n",
            "EPOCH 83/90...\n",
            "Generation of samples for data cartography...\n",
            "EPOCH 84/90...\n",
            "Generation of samples for data cartography...\n",
            "EPOCH 85/90...\n",
            "Generation of samples for data cartography...\n",
            "EPOCH 86/90...\n",
            "Generation of samples for data cartography...\n",
            "EPOCH 87/90...\n",
            "Generation of samples for data cartography...\n",
            "EPOCH 88/90...\n",
            "Generation of samples for data cartography...\n",
            "EPOCH 89/90...\n",
            "Generation of samples for data cartography...\n",
            "EPOCH 90/90...\n",
            "Generation of samples for data cartography...\n"
          ]
        }
      ],
      "source": [
        "history = trainer_TC(model, device, optimizer, loss_fn, loader, EPOCHS*3, train_dyn)"
      ]
    },
    {
      "cell_type": "markdown",
      "metadata": {
        "id": "vE39Cn3LCtp-"
      },
      "source": [
        "## Section 4 - Model(s) evaluation"
      ]
    },
    {
      "cell_type": "code",
      "execution_count": 17,
      "metadata": {
        "colab": {
          "base_uri": "https://localhost:8080/"
        },
        "id": "1GkanG2uf_JJ",
        "outputId": "0b80f1ca-3023-4b33-e215-e77a4ae074de"
      },
      "outputs": [
        {
          "name": "stdout",
          "output_type": "stream",
          "text": [
            "              precision    recall  f1-score   support\n",
            "\n",
            "           F       0.94      0.86      0.90       477\n",
            "           L       0.80      0.83      0.82       263\n",
            "\n",
            "   micro avg       0.88      0.85      0.87       740\n",
            "   macro avg       0.87      0.85      0.86       740\n",
            "weighted avg       0.89      0.85      0.87       740\n",
            " samples avg       0.88      0.87      0.87       740\n",
            "\n"
          ]
        }
      ],
      "source": [
        "model.eval()\n",
        "results = evaluation_run(model, test_loader, device)\n",
        "results = pd.DataFrame(results, columns=labels)\n",
        "print(classification_report(p_test[labels], results, target_names=labels, zero_division=0.0))"
      ]
    },
    {
      "cell_type": "markdown",
      "metadata": {
        "id": "gBKnsColCtp-"
      },
      "source": [
        "## Section 5 - PLOT DATA CARTOGRAHPY"
      ]
    },
    {
      "cell_type": "code",
      "execution_count": 18,
      "metadata": {
        "id": "H9lfUoDXCtp_"
      },
      "outputs": [],
      "source": [
        "cartography = compute_metrics(train_dyn)\n",
        "premises = premises.join(cartography)"
      ]
    },
    {
      "cell_type": "code",
      "execution_count": 19,
      "metadata": {
        "colab": {
          "base_uri": "https://localhost:8080/",
          "height": 774
        },
        "id": "XYtzG4hDvtiG",
        "outputId": "1ede44dd-7acf-456a-a244-c57fe8c3dbb2"
      },
      "outputs": [
        {
          "data": {
            "image/png": "[encoded data removed]",
            "text/plain": [
              "<Figure size 800x600 with 1 Axes>"
            ]
          },
          "metadata": {},
          "output_type": "display_data"
        }
      ],
      "source": [
        "plot_data_map(cartography,plot_dir=os.getcwd(),show_hist=False, model=CARD_KEY+\"-TC\")"
      ]
    },
    {
      "cell_type": "markdown",
      "metadata": {
        "id": "qP4Lnfl1jTUM"
      },
      "source": [
        "## Section 6 - Curriculum Learning"
      ]
    },
    {
      "cell_type": "code",
      "execution_count": 20,
      "metadata": {
        "id": "F94Ac6PmfvLF"
      },
      "outputs": [],
      "source": [
        "new_col = pd.DataFrame(premises['confidence'] * (1 - premises['variability']), columns = ['c*(1-v)'])\n",
        "premises = premises.join(new_col)\n",
        "datasets_curriculum = [\n",
        "    premises[premises['c*(1-v)'] >= premises['c*(1-v)'].quantile(i/10)].reset_index(drop=True, inplace=False)\n",
        "    for i in range(9, -1, -1)\n",
        "    ]\n",
        "datasets_curriculum = [Sentences_Dataset(ds, tokenizer, labels, max_len=MAX_LEN) for ds in datasets_curriculum]\n",
        "loaders_curriculum = [DataLoader(ds, batch_size=TRAIN_BATCH_SIZE, shuffle=True, pin_memory=True) for ds in datasets_curriculum]"
      ]
    },
    {
      "cell_type": "code",
      "execution_count": 21,
      "metadata": {},
      "outputs": [
        {
          "data": {
            "image/png": "[encoded data removed]",
            "text/plain": [
              "<Figure size 640x480 with 1 Axes>"
            ]
          },
          "metadata": {},
          "output_type": "display_data"
        }
      ],
      "source": [
        "hard_to_learn(premises, labels, threshold=0.5)"
      ]
    },
    {
      "cell_type": "markdown",
      "metadata": {
        "id": "hPnhJKx3kSWz"
      },
      "source": [
        "### Create the new model"
      ]
    },
    {
      "cell_type": "code",
      "execution_count": 22,
      "metadata": {
        "colab": {
          "base_uri": "https://localhost:8080/"
        },
        "id": "pXp9gtHBxbnA",
        "outputId": "a2a7e51f-a88d-4bf1-887d-8fe27ff0620f"
      },
      "outputs": [
        {
          "name": "stderr",
          "output_type": "stream",
          "text": [
            "Some weights of BertForSequenceClassification were not initialized from the model checkpoint at prajjwal1/bert-tiny and are newly initialized: ['classifier.weight', 'classifier.bias']\n",
            "You should probably TRAIN this model on a down-stream task to be able to use it for predictions and inference.\n"
          ]
        }
      ],
      "source": [
        "model2 = AutoModelForSequenceClassification.from_pretrained(CARD, num_labels = len(labels), problem_type='multi_label_classification')\n",
        "for param in model2.bert.embeddings.parameters(): # We don't want to train the first layer\n",
        "    param.requires_grad = False\n",
        "optimizer = torch.optim.AdamW(model2.parameters(), lr=LEARNING_RATE, weight_decay=1e-5)\n",
        "optimizer.zero_grad()\n",
        "loss_fn = torch.nn.BCEWithLogitsLoss()"
      ]
    },
    {
      "cell_type": "code",
      "execution_count": 23,
      "metadata": {
        "colab": {
          "base_uri": "https://localhost:8080/"
        },
        "id": "6ZnR6Oa0f_JT",
        "outputId": "ddb0231a-a69c-4a4b-a85a-885e4ffbbb3e"
      },
      "outputs": [
        {
          "data": {
            "text/plain": [
              "BertForSequenceClassification(\n",
              "  (bert): BertModel(\n",
              "    (embeddings): BertEmbeddings(\n",
              "      (word_embeddings): Embedding(30522, 128, padding_idx=0)\n",
              "      (position_embeddings): Embedding(512, 128)\n",
              "      (token_type_embeddings): Embedding(2, 128)\n",
              "      (LayerNorm): LayerNorm((128,), eps=1e-12, elementwise_affine=True)\n",
              "      (dropout): Dropout(p=0.1, inplace=False)\n",
              "    )\n",
              "    (encoder): BertEncoder(\n",
              "      (layer): ModuleList(\n",
              "        (0-1): 2 x BertLayer(\n",
              "          (attention): BertAttention(\n",
              "            (self): BertSelfAttention(\n",
              "              (query): Linear(in_features=128, out_features=128, bias=True)\n",
              "              (key): Linear(in_features=128, out_features=128, bias=True)\n",
              "              (value): Linear(in_features=128, out_features=128, bias=True)\n",
              "              (dropout): Dropout(p=0.1, inplace=False)\n",
              "            )\n",
              "            (output): BertSelfOutput(\n",
              "              (dense): Linear(in_features=128, out_features=128, bias=True)\n",
              "              (LayerNorm): LayerNorm((128,), eps=1e-12, elementwise_affine=True)\n",
              "              (dropout): Dropout(p=0.1, inplace=False)\n",
              "            )\n",
              "          )\n",
              "          (intermediate): BertIntermediate(\n",
              "            (dense): Linear(in_features=128, out_features=512, bias=True)\n",
              "            (intermediate_act_fn): GELUActivation()\n",
              "          )\n",
              "          (output): BertOutput(\n",
              "            (dense): Linear(in_features=512, out_features=128, bias=True)\n",
              "            (LayerNorm): LayerNorm((128,), eps=1e-12, elementwise_affine=True)\n",
              "            (dropout): Dropout(p=0.1, inplace=False)\n",
              "          )\n",
              "        )\n",
              "      )\n",
              "    )\n",
              "    (pooler): BertPooler(\n",
              "      (dense): Linear(in_features=128, out_features=128, bias=True)\n",
              "      (activation): Tanh()\n",
              "    )\n",
              "  )\n",
              "  (dropout): Dropout(p=0.1, inplace=False)\n",
              "  (classifier): Linear(in_features=128, out_features=2, bias=True)\n",
              ")"
            ]
          },
          "execution_count": 23,
          "metadata": {},
          "output_type": "execute_result"
        }
      ],
      "source": [
        "device = torch.device('cuda') if torch.cuda.is_available() else torch.device('cpu')\n",
        "model2.to(device)"
      ]
    },
    {
      "cell_type": "markdown",
      "metadata": {
        "id": "NPWoOwTqf_JT"
      },
      "source": [
        "### Train with curriculum learning"
      ]
    },
    {
      "cell_type": "code",
      "execution_count": 24,
      "metadata": {
        "colab": {
          "base_uri": "https://localhost:8080/"
        },
        "id": "JPdFmETR_28T",
        "outputId": "21dee1f0-505c-4f71-fce8-af6ff97663e9"
      },
      "outputs": [
        {
          "name": "stdout",
          "output_type": "stream",
          "text": [
            "EPOCH 1/6...\n",
            "Generation of samples for data cartography...\n",
            "EPOCH 2/6...\n",
            "Generation of samples for data cartography...\n",
            "EPOCH 3/6...\n",
            "Generation of samples for data cartography...\n",
            "EPOCH 4/6...\n",
            "Generation of samples for data cartography...\n",
            "EPOCH 5/6...\n",
            "Generation of samples for data cartography...\n",
            "EPOCH 6/6...\n",
            "Generation of samples for data cartography...\n",
            "EPOCH 1/6...\n",
            "Generation of samples for data cartography...\n",
            "EPOCH 2/6...\n",
            "Generation of samples for data cartography...\n",
            "EPOCH 3/6...\n",
            "Generation of samples for data cartography...\n",
            "EPOCH 4/6...\n",
            "Generation of samples for data cartography...\n",
            "EPOCH 5/6...\n",
            "Generation of samples for data cartography...\n",
            "EPOCH 6/6...\n",
            "Generation of samples for data cartography...\n",
            "EPOCH 1/7...\n",
            "Generation of samples for data cartography...\n",
            "EPOCH 2/7...\n",
            "Generation of samples for data cartography...\n",
            "EPOCH 3/7...\n",
            "Generation of samples for data cartography...\n",
            "EPOCH 4/7...\n",
            "Generation of samples for data cartography...\n",
            "EPOCH 5/7...\n",
            "Generation of samples for data cartography...\n",
            "EPOCH 6/7...\n",
            "Generation of samples for data cartography...\n",
            "EPOCH 7/7...\n",
            "Generation of samples for data cartography...\n",
            "EPOCH 1/7...\n",
            "Generation of samples for data cartography...\n",
            "EPOCH 2/7...\n",
            "Generation of samples for data cartography...\n",
            "EPOCH 3/7...\n",
            "Generation of samples for data cartography...\n",
            "EPOCH 4/7...\n",
            "Generation of samples for data cartography...\n",
            "EPOCH 5/7...\n",
            "Generation of samples for data cartography...\n",
            "EPOCH 6/7...\n",
            "Generation of samples for data cartography...\n",
            "EPOCH 7/7...\n",
            "Generation of samples for data cartography...\n",
            "EPOCH 1/10...\n",
            "Generation of samples for data cartography...\n",
            "EPOCH 2/10...\n",
            "Generation of samples for data cartography...\n",
            "EPOCH 3/10...\n",
            "Generation of samples for data cartography...\n",
            "EPOCH 4/10...\n",
            "Generation of samples for data cartography...\n",
            "EPOCH 5/10...\n",
            "Generation of samples for data cartography...\n",
            "EPOCH 6/10...\n",
            "Generation of samples for data cartography...\n",
            "EPOCH 7/10...\n",
            "Generation of samples for data cartography...\n",
            "EPOCH 8/10...\n",
            "Generation of samples for data cartography...\n",
            "EPOCH 9/10...\n",
            "Generation of samples for data cartography...\n",
            "EPOCH 10/10...\n",
            "Generation of samples for data cartography...\n",
            "EPOCH 1/10...\n",
            "Generation of samples for data cartography...\n",
            "EPOCH 2/10...\n",
            "Generation of samples for data cartography...\n",
            "EPOCH 3/10...\n",
            "Generation of samples for data cartography...\n",
            "EPOCH 4/10...\n",
            "Generation of samples for data cartography...\n",
            "EPOCH 5/10...\n",
            "Generation of samples for data cartography...\n",
            "EPOCH 6/10...\n",
            "Generation of samples for data cartography...\n",
            "EPOCH 7/10...\n",
            "Generation of samples for data cartography...\n",
            "EPOCH 8/10...\n",
            "Generation of samples for data cartography...\n",
            "EPOCH 9/10...\n",
            "Generation of samples for data cartography...\n",
            "EPOCH 10/10...\n",
            "Generation of samples for data cartography...\n",
            "EPOCH 1/15...\n",
            "Generation of samples for data cartography...\n",
            "EPOCH 2/15...\n",
            "Generation of samples for data cartography...\n",
            "EPOCH 3/15...\n",
            "Generation of samples for data cartography...\n",
            "EPOCH 4/15...\n",
            "Generation of samples for data cartography...\n",
            "EPOCH 5/15...\n",
            "Generation of samples for data cartography...\n",
            "EPOCH 6/15...\n",
            "Generation of samples for data cartography...\n",
            "EPOCH 7/15...\n",
            "Generation of samples for data cartography...\n",
            "EPOCH 8/15...\n",
            "Generation of samples for data cartography...\n",
            "EPOCH 9/15...\n",
            "Generation of samples for data cartography...\n",
            "EPOCH 10/15...\n",
            "Generation of samples for data cartography...\n",
            "EPOCH 11/15...\n",
            "Generation of samples for data cartography...\n",
            "EPOCH 12/15...\n",
            "Generation of samples for data cartography...\n",
            "EPOCH 13/15...\n",
            "Generation of samples for data cartography...\n",
            "EPOCH 14/15...\n",
            "Generation of samples for data cartography...\n",
            "EPOCH 15/15...\n",
            "Generation of samples for data cartography...\n",
            "EPOCH 1/15...\n",
            "Generation of samples for data cartography...\n",
            "EPOCH 2/15...\n",
            "Generation of samples for data cartography...\n",
            "EPOCH 3/15...\n",
            "Generation of samples for data cartography...\n",
            "EPOCH 4/15...\n",
            "Generation of samples for data cartography...\n",
            "EPOCH 5/15...\n",
            "Generation of samples for data cartography...\n",
            "EPOCH 6/15...\n",
            "Generation of samples for data cartography...\n",
            "EPOCH 7/15...\n",
            "Generation of samples for data cartography...\n",
            "EPOCH 8/15...\n",
            "Generation of samples for data cartography...\n",
            "EPOCH 9/15...\n",
            "Generation of samples for data cartography...\n",
            "EPOCH 10/15...\n",
            "Generation of samples for data cartography...\n",
            "EPOCH 11/15...\n",
            "Generation of samples for data cartography...\n",
            "EPOCH 12/15...\n",
            "Generation of samples for data cartography...\n",
            "EPOCH 13/15...\n",
            "Generation of samples for data cartography...\n",
            "EPOCH 14/15...\n",
            "Generation of samples for data cartography...\n",
            "EPOCH 15/15...\n",
            "Generation of samples for data cartography...\n",
            "EPOCH 1/30...\n",
            "Generation of samples for data cartography...\n",
            "EPOCH 2/30...\n",
            "Generation of samples for data cartography...\n",
            "EPOCH 3/30...\n",
            "Generation of samples for data cartography...\n",
            "EPOCH 4/30...\n",
            "Generation of samples for data cartography...\n",
            "EPOCH 5/30...\n",
            "Generation of samples for data cartography...\n",
            "EPOCH 6/30...\n",
            "Generation of samples for data cartography...\n",
            "EPOCH 7/30...\n",
            "Generation of samples for data cartography...\n",
            "EPOCH 8/30...\n",
            "Generation of samples for data cartography...\n",
            "EPOCH 9/30...\n",
            "Generation of samples for data cartography...\n",
            "EPOCH 10/30...\n",
            "Generation of samples for data cartography...\n",
            "EPOCH 11/30...\n",
            "Generation of samples for data cartography...\n",
            "EPOCH 12/30...\n",
            "Generation of samples for data cartography...\n",
            "EPOCH 13/30...\n",
            "Generation of samples for data cartography...\n",
            "EPOCH 14/30...\n",
            "Generation of samples for data cartography...\n",
            "EPOCH 15/30...\n",
            "Generation of samples for data cartography...\n",
            "EPOCH 16/30...\n",
            "Generation of samples for data cartography...\n",
            "EPOCH 17/30...\n",
            "Generation of samples for data cartography...\n",
            "EPOCH 18/30...\n",
            "Generation of samples for data cartography...\n",
            "EPOCH 19/30...\n",
            "Generation of samples for data cartography...\n",
            "EPOCH 20/30...\n",
            "Generation of samples for data cartography...\n",
            "EPOCH 21/30...\n",
            "Generation of samples for data cartography...\n",
            "EPOCH 22/30...\n",
            "Generation of samples for data cartography...\n",
            "EPOCH 23/30...\n",
            "Generation of samples for data cartography...\n",
            "EPOCH 24/30...\n",
            "Generation of samples for data cartography...\n",
            "EPOCH 25/30...\n",
            "Generation of samples for data cartography...\n",
            "EPOCH 26/30...\n",
            "Generation of samples for data cartography...\n",
            "EPOCH 27/30...\n",
            "Generation of samples for data cartography...\n",
            "EPOCH 28/30...\n",
            "Generation of samples for data cartography...\n",
            "EPOCH 29/30...\n",
            "Generation of samples for data cartography...\n",
            "EPOCH 30/30...\n",
            "Generation of samples for data cartography...\n",
            "EPOCH 1/30...\n",
            "Generation of samples for data cartography...\n",
            "EPOCH 2/30...\n",
            "Generation of samples for data cartography...\n",
            "EPOCH 3/30...\n",
            "Generation of samples for data cartography...\n",
            "EPOCH 4/30...\n",
            "Generation of samples for data cartography...\n",
            "EPOCH 5/30...\n",
            "Generation of samples for data cartography...\n",
            "EPOCH 6/30...\n",
            "Generation of samples for data cartography...\n",
            "EPOCH 7/30...\n",
            "Generation of samples for data cartography...\n",
            "EPOCH 8/30...\n",
            "Generation of samples for data cartography...\n",
            "EPOCH 9/30...\n",
            "Generation of samples for data cartography...\n",
            "EPOCH 10/30...\n",
            "Generation of samples for data cartography...\n",
            "EPOCH 11/30...\n",
            "Generation of samples for data cartography...\n",
            "EPOCH 12/30...\n",
            "Generation of samples for data cartography...\n",
            "EPOCH 13/30...\n",
            "Generation of samples for data cartography...\n",
            "EPOCH 14/30...\n",
            "Generation of samples for data cartography...\n",
            "EPOCH 15/30...\n",
            "Generation of samples for data cartography...\n",
            "EPOCH 16/30...\n",
            "Generation of samples for data cartography...\n",
            "EPOCH 17/30...\n",
            "Generation of samples for data cartography...\n",
            "EPOCH 18/30...\n",
            "Generation of samples for data cartography...\n",
            "EPOCH 19/30...\n",
            "Generation of samples for data cartography...\n",
            "EPOCH 20/30...\n",
            "Generation of samples for data cartography...\n",
            "EPOCH 21/30...\n",
            "Generation of samples for data cartography...\n",
            "EPOCH 22/30...\n",
            "Generation of samples for data cartography...\n",
            "EPOCH 23/30...\n",
            "Generation of samples for data cartography...\n",
            "EPOCH 24/30...\n",
            "Generation of samples for data cartography...\n",
            "EPOCH 25/30...\n",
            "Generation of samples for data cartography...\n",
            "EPOCH 26/30...\n",
            "Generation of samples for data cartography...\n",
            "EPOCH 27/30...\n",
            "Generation of samples for data cartography...\n",
            "EPOCH 28/30...\n",
            "Generation of samples for data cartography...\n",
            "EPOCH 29/30...\n",
            "Generation of samples for data cartography...\n",
            "EPOCH 30/30...\n",
            "Generation of samples for data cartography...\n",
            "EPOCH 1/30...\n",
            "Generation of samples for data cartography...\n",
            "EPOCH 2/30...\n",
            "Generation of samples for data cartography...\n",
            "EPOCH 3/30...\n",
            "Generation of samples for data cartography...\n",
            "EPOCH 4/30...\n",
            "Generation of samples for data cartography...\n",
            "EPOCH 5/30...\n",
            "Generation of samples for data cartography...\n",
            "EPOCH 6/30...\n",
            "Generation of samples for data cartography...\n",
            "EPOCH 7/30...\n",
            "Generation of samples for data cartography...\n",
            "EPOCH 8/30...\n",
            "Generation of samples for data cartography...\n",
            "EPOCH 9/30...\n",
            "Generation of samples for data cartography...\n",
            "EPOCH 10/30...\n",
            "Generation of samples for data cartography...\n",
            "EPOCH 11/30...\n",
            "Generation of samples for data cartography...\n",
            "EPOCH 12/30...\n",
            "Generation of samples for data cartography...\n",
            "EPOCH 13/30...\n",
            "Generation of samples for data cartography...\n",
            "EPOCH 14/30...\n",
            "Generation of samples for data cartography...\n",
            "EPOCH 15/30...\n",
            "Generation of samples for data cartography...\n",
            "EPOCH 16/30...\n",
            "Generation of samples for data cartography...\n",
            "EPOCH 17/30...\n",
            "Generation of samples for data cartography...\n",
            "EPOCH 18/30...\n",
            "Generation of samples for data cartography...\n",
            "EPOCH 19/30...\n",
            "Generation of samples for data cartography...\n",
            "EPOCH 20/30...\n",
            "Generation of samples for data cartography...\n",
            "EPOCH 21/30...\n",
            "Generation of samples for data cartography...\n",
            "EPOCH 22/30...\n",
            "Generation of samples for data cartography...\n",
            "EPOCH 23/30...\n",
            "Generation of samples for data cartography...\n",
            "EPOCH 24/30...\n",
            "Generation of samples for data cartography...\n",
            "EPOCH 25/30...\n",
            "Generation of samples for data cartography...\n",
            "EPOCH 26/30...\n",
            "Generation of samples for data cartography...\n",
            "EPOCH 27/30...\n",
            "Generation of samples for data cartography...\n",
            "EPOCH 28/30...\n",
            "Generation of samples for data cartography...\n",
            "EPOCH 29/30...\n",
            "Generation of samples for data cartography...\n",
            "EPOCH 30/30...\n",
            "Generation of samples for data cartography...\n"
          ]
        }
      ],
      "source": [
        "history2 = []\n",
        "train_dyn2 = {}\n",
        "for i,loader in enumerate(loaders_curriculum):\n",
        "    history2.extend(trainer_TC(model2, device, optimizer, loss_fn, loader, EPOCHS//((11-i)//2), train_dyn2))\n",
        "history2.extend(trainer_TC(model2, device, optimizer, loss_fn, loaders_curriculum[-1], EPOCHS, train_dyn2))"
      ]
    },
    {
      "cell_type": "code",
      "execution_count": 25,
      "metadata": {
        "colab": {
          "base_uri": "https://localhost:8080/",
          "height": 437
        },
        "id": "ZB2h5cPJ76Jm",
        "outputId": "597dd240-719a-4914-cd39-1100ba22022b"
      },
      "outputs": [
        {
          "data": {
            "image/png": "[encoded data removed]",
            "text/plain": [
              "<Figure size 640x480 with 1 Axes>"
            ]
          },
          "metadata": {},
          "output_type": "display_data"
        }
      ],
      "source": [
        "plt.plot(history, c='r')\n",
        "plt.plot(history2, c='b')\n",
        "plt.title(\"Learning error for pre-curriculum and curriculum model\")\n",
        "plt.legend(['normal', 'curriculum'])\n",
        "plt.grid(True)\n",
        "plt.show();"
      ]
    },
    {
      "cell_type": "code",
      "execution_count": 26,
      "metadata": {
        "colab": {
          "base_uri": "https://localhost:8080/"
        },
        "id": "CsEKVO5RC2V5",
        "outputId": "fc54678c-3ac7-49ca-f853-ea9762bb6ee3"
      },
      "outputs": [
        {
          "name": "stdout",
          "output_type": "stream",
          "text": [
            "              precision    recall  f1-score   support\n",
            "\n",
            "           F       0.91      0.90      0.90       477\n",
            "           L       0.84      0.77      0.80       263\n",
            "\n",
            "   micro avg       0.88      0.85      0.87       740\n",
            "   macro avg       0.87      0.83      0.85       740\n",
            "weighted avg       0.88      0.85      0.87       740\n",
            " samples avg       0.88      0.87      0.87       740\n",
            "\n"
          ]
        }
      ],
      "source": [
        "results2 = evaluation_run(model2, test_loader, device)\n",
        "results2 = pd.DataFrame(results2, columns=labels)\n",
        "print(classification_report(p_test[labels], results2, target_names=labels, zero_division=0.0))"
      ]
    },
    {
      "cell_type": "markdown",
      "metadata": {},
      "source": [
        "## Section 7 - Data Augmentation on hard to learn"
      ]
    },
    {
      "cell_type": "code",
      "execution_count": 27,
      "metadata": {},
      "outputs": [
        {
          "name": "stdout",
          "output_type": "stream",
          "text": [
            "The number of maxims for tc: 27\n"
          ]
        }
      ],
      "source": [
        "filtered_dftc = premises[(premises['c*(1-v)']<=0.5)]\n",
        "\n",
        "# Extract the 'Text' column from the filtered DataFrame\n",
        "text_column_tc = filtered_dftc['Text'].reset_index(drop=True)\n",
        "conf_column_tc = filtered_dftc['confidence'].reset_index(drop=True)\n",
        "var_column_tc = filtered_dftc['variability'].reset_index(drop=True)\n",
        "corr_column_tc = filtered_dftc['correctness'].reset_index(drop=True)\n",
        "cv_column_tc = filtered_dftc['c*(1-v)'].reset_index(drop=True)\n",
        "type_column_tc = filtered_dftc['Type'].reset_index(drop=True)\n",
        "scheme_column_tc = filtered_dftc['Scheme'].reset_index(drop=True)\n",
        "F_column_tc = filtered_dftc['F'].reset_index(drop=True)\n",
        "L_column_tc = filtered_dftc['L'].reset_index(drop=True)\n",
        "\n",
        "text_column_tc.to_csv('output_tc.txt', index=False, header=False, sep='\\t')\n",
        "\n",
        "TRAINSETPATHX=str(Path.cwd().joinpath('output_tc.txt'))\n",
        "\n",
        "f=open(TRAINSETPATHX,'r',encoding='utf8')\n",
        "maximbits_tc=f.readlines()\n",
        "f.close()\n",
        "#removing the endline characters\n",
        "maximbits_tc=[maxim[:-1] for maxim in maximbits_tc]\n",
        "\n",
        "print(\"The number of maxims for tc: {}\".format(len(maximbits_tc)))"
      ]
    },
    {
      "cell_type": "code",
      "execution_count": 28,
      "metadata": {},
      "outputs": [
        {
          "name": "stdout",
          "output_type": "stream",
          "text": [
            "27\n",
            "27\n"
          ]
        }
      ],
      "source": [
        "#breaking th maxim lines into sentences\n",
        "sentences_tc = []\n",
        "nsentence_tc = []  #storing the number of sentences each maxim contains\n",
        "for line in maximbits_tc:\n",
        "    count = 0\n",
        "    #splitting sentences using \". \" characters\n",
        "    #listsent=line.replace('\\\\\\n','').split('. ')\n",
        "    listsent = line.split('. ')\n",
        "    for i in range(0, len(listsent)):\n",
        "        sentence_tc = listsent[i]\n",
        "        #sentences that are too short are eliminated\n",
        "        if len(sentence_tc) < 5:\n",
        "            continue\n",
        "        elif (i == len(listsent) - 1):\n",
        "            #the last one is added as it is since we used the character sequence \". \" for the seperation\n",
        "            #and the last sentence contains only \".\"\n",
        "            sentences_tc.append(sentence_tc)\n",
        "            count = count + 1\n",
        "            continue\n",
        "        else:\n",
        "            #the \".\" characters are restored\n",
        "            if (sentence_tc[-1] != '.'):\n",
        "                sentence_tc = sentence_tc + '.'\n",
        "            sentences_tc.append(sentence_tc)\n",
        "            count = count + 1\n",
        "    nsentence_tc.append(count)\n",
        "\n",
        "print(len(sentences_tc))\n",
        "print(len(nsentence_tc))"
      ]
    },
    {
      "cell_type": "code",
      "execution_count": 29,
      "metadata": {},
      "outputs": [
        {
          "name": "stdout",
          "output_type": "stream",
          "text": [
            "0\n",
            "0\n"
          ]
        }
      ],
      "source": [
        "perfix=[0.6] #percentage desired\n",
        "noisesent6=[]\n",
        "S=[]\n",
        "Nord=2\n",
        "L = len(premises)\n",
        "for ord in range(Nord):\n",
        "  for sent in sentences_tc:\n",
        "      if sentences_tc.index(sent)%100==0:\n",
        "          print(sentences_tc.index(sent))\n",
        "      #tokinizing and capitalizing the sentences\n",
        "      tokens = nltk.word_tokenize(cleanline(sent).capitalize())\n",
        "      #lower-casing the tokens\n",
        "      tokens=[token.lower() for token in tokens]\n",
        "      #eliminating the stop words\n",
        "      nonstoptoken = [word for word in tokens if not word in stop_words]\n",
        "      tags = nltk.pos_tag(nonstoptoken)\n",
        "      #collecting the tokens with POS tag in categories nouns, adjectives and adverbs\n",
        "      tochange=[tag for tag in tags if tag[1][0] in ['J','N','R']]\n",
        "      nchange=[round(per*len(tochange)) for per in perfix] #number of required replacements due to the percentage given\n",
        "      #print(\"Len to change: {}\".format(len(tochange)))\n",
        "      #print(\"Nchange: {}\".format(nchange[0]))\n",
        "      linemodtotal=sent.lower()\n",
        "      indicator=sent[0].isupper()\n",
        "      changed=0\n",
        "      #adding the sentences into list if no change is supposed to be performed\n",
        "      if nchange[0]==0:\n",
        "          if (indicator):\n",
        "              toadd=linemodtotal.capitalize()\n",
        "          else:\n",
        "              toadd=linemodtotal\n",
        "          noisesent6.append(toadd)\n",
        "      index=-1\n",
        "      #the replacement order of the tokens could also be randomized by making the following line uncommented\n",
        "      #random.shuffle(tochange)\n",
        "      while(changed<nchange[-1]):\n",
        "          index+=1\n",
        "          if(index==len(tochange)):\n",
        "              if changed<nchange[0]:\n",
        "                if (indicator):\n",
        "                    toadd=linemodtotal.replace('#','').capitalize()\n",
        "                else:\n",
        "                    toadd=linemodtotal.replace('#','')\n",
        "                noisesent6.append(toadd)\n",
        "                #print(toadd)\n",
        "              break\n",
        "          word=tochange[index][0]\n",
        "          #print(\"Word to change: {}\".format(word))\n",
        "          #Obtaining the candidates for the replacement\n",
        "          [wn,check2]=synonyms(tochange[index][0],10)\n",
        "          #if the list is not empty:\n",
        "          if (check2):\n",
        "              toreplace=mostsimilar(embeddings,word,wn, order=ord)\n",
        "              #print(\"TOREPLACE: {}\".format(toreplace))\n",
        "              #word is replaced with the candidate accompanying \"#\" characters as boundaries\n",
        "              #this is done to prevent the replacement of the in-word and multiple occurences of the words in process\n",
        "              pattern='(?<![a-zA-Z#])'+word+'(?![a-zA-Z#])'\n",
        "              linemodtotal=re.sub(pattern,'#'+toreplace+'#',linemodtotal,1)\n",
        "              #print(linemodtotal)\n",
        "              changed+=1\n",
        "          else:\n",
        "              continue\n",
        "          #if the desired number of words are replaced\n",
        "          if changed==nchange[0]:\n",
        "              #indicator serves as a sign of the capitalized sentence\n",
        "              #the \"#\" characters are removed at the end\n",
        "              if (indicator):\n",
        "                  toadd=linemodtotal.replace('#','').capitalize()\n",
        "              else:\n",
        "                  toadd=linemodtotal.replace('#','')\n",
        "              #the augmented sentences added to the list defined at the beginning\n",
        "              noisesent6.append(toadd)\n",
        "              break"
      ]
    },
    {
      "cell_type": "code",
      "execution_count": 30,
      "metadata": {},
      "outputs": [],
      "source": [
        "#the path where the document containing the augmented samples will be saved to\n",
        "FINALPATH=str(Path.cwd())\n",
        "\n",
        "noiselist=[noisesent6]\n",
        "for element in noiselist:\n",
        "    folder=\"0.6\" #Could also be iterated due to percentages. Here we use only one percentage value therefore it is strictly defined\n",
        "    final=[]\n",
        "    start=0\n",
        "    for i in range(0,len(nsentence_tc)):\n",
        "        toaddm=''\n",
        "        n=nsentence_tc[i]\n",
        "        #merging the sentences that are contained in the same maxim\n",
        "        for j in range(start,start+n):\n",
        "            toaddm=toaddm+' '+element[j]\n",
        "        toaddm=toaddm[1:]\n",
        "        final.append(toaddm)\n",
        "        start=start+n\n",
        "    #saving the augmented samples into a text document in the given final path\n",
        "    f=open(FINALPATH+'/maximsamples_wordnetglove_tc'+folder[-1]+'0.txt', 'w',encoding=\"utf8\")\n",
        "    for line in final:\n",
        "        f.write(line+'\\n')\n",
        "    f.close()\n",
        "\n",
        "txt_file_path = \"maximsamples_wordnetglove_tc60.txt\"\n",
        "\n",
        "with open(txt_file_path, 'r', encoding='utf-8') as file:\n",
        "    new_texts = file.readlines()\n",
        "for k in range(len(new_texts)):\n",
        "    new_row = pd.DataFrame({\n",
        "        #'ID': [len(premises)+k],\n",
        "        'Document': ['new'],\n",
        "        'Split': [1],\n",
        "        'Name': ['prem'],\n",
        "        'Id': ['new'],\n",
        "        'Text': [new_texts[k]],\n",
        "        'Type': [type_column_tc[k%len(sentences_tc)]],\n",
        "        'Scheme': [scheme_column_tc[k%len(sentences_tc)]],\n",
        "        'F': [F_column_tc[k%len(sentences_tc)]],\n",
        "        'L': [L_column_tc[k%len(sentences_tc)]],\n",
        "        'confidence': [conf_column_tc[k%len(sentences_tc)]],\n",
        "        'variability': [var_column_tc[k%len(sentences_tc)]],\n",
        "        'correctness': [corr_column_tc[k%len(sentences_tc)]],\n",
        "        'c*(1-v)': [cv_column_tc[k%len(sentences_tc)]]\n",
        "    })\n",
        "    premises = pd.concat([premises, new_row], ignore_index=True)\n",
        "\n",
        "premises.to_pickle(\"updated_df_tc.pkl\")"
      ]
    },
    {
      "cell_type": "code",
      "execution_count": 31,
      "metadata": {},
      "outputs": [],
      "source": [
        "datasets_curriculum = [\n",
        "    premises[premises['c*(1-v)'] >= premises['c*(1-v)'].quantile(i/10)].reset_index(drop=True, inplace=False)\n",
        "    for i in range(9, -1, -1)\n",
        "    ]\n",
        "datasets_curriculum = [Sentences_Dataset(ds, tokenizer, labels, max_len=MAX_LEN) for ds in datasets_curriculum]\n",
        "loaders_curriculum = [DataLoader(ds, batch_size=TRAIN_BATCH_SIZE, shuffle=True, pin_memory=True) for ds in datasets_curriculum]"
      ]
    },
    {
      "cell_type": "markdown",
      "metadata": {},
      "source": [
        "## Section 8 - Model with Data Augmentation and curriculum learning"
      ]
    },
    {
      "cell_type": "code",
      "execution_count": 42,
      "metadata": {},
      "outputs": [
        {
          "name": "stderr",
          "output_type": "stream",
          "text": [
            "Some weights of BertForSequenceClassification were not initialized from the model checkpoint at prajjwal1/bert-tiny and are newly initialized: ['classifier.weight', 'classifier.bias']\n",
            "You should probably TRAIN this model on a down-stream task to be able to use it for predictions and inference.\n"
          ]
        }
      ],
      "source": [
        "model3 = AutoModelForSequenceClassification.from_pretrained(CARD, num_labels = len(labels), problem_type='multi_label_classification')\n",
        "for param in model3.bert.embeddings.parameters(): # We don't want to train the first layer\n",
        "    param.requires_grad = False\n",
        "optimizer = torch.optim.AdamW(model3.parameters(), lr=LEARNING_RATE, weight_decay=1e-5)\n",
        "optimizer.zero_grad()\n",
        "loss_fn = torch.nn.BCEWithLogitsLoss()"
      ]
    },
    {
      "cell_type": "code",
      "execution_count": 43,
      "metadata": {},
      "outputs": [
        {
          "data": {
            "text/plain": [
              "BertForSequenceClassification(\n",
              "  (bert): BertModel(\n",
              "    (embeddings): BertEmbeddings(\n",
              "      (word_embeddings): Embedding(30522, 128, padding_idx=0)\n",
              "      (position_embeddings): Embedding(512, 128)\n",
              "      (token_type_embeddings): Embedding(2, 128)\n",
              "      (LayerNorm): LayerNorm((128,), eps=1e-12, elementwise_affine=True)\n",
              "      (dropout): Dropout(p=0.1, inplace=False)\n",
              "    )\n",
              "    (encoder): BertEncoder(\n",
              "      (layer): ModuleList(\n",
              "        (0-1): 2 x BertLayer(\n",
              "          (attention): BertAttention(\n",
              "            (self): BertSelfAttention(\n",
              "              (query): Linear(in_features=128, out_features=128, bias=True)\n",
              "              (key): Linear(in_features=128, out_features=128, bias=True)\n",
              "              (value): Linear(in_features=128, out_features=128, bias=True)\n",
              "              (dropout): Dropout(p=0.1, inplace=False)\n",
              "            )\n",
              "            (output): BertSelfOutput(\n",
              "              (dense): Linear(in_features=128, out_features=128, bias=True)\n",
              "              (LayerNorm): LayerNorm((128,), eps=1e-12, elementwise_affine=True)\n",
              "              (dropout): Dropout(p=0.1, inplace=False)\n",
              "            )\n",
              "          )\n",
              "          (intermediate): BertIntermediate(\n",
              "            (dense): Linear(in_features=128, out_features=512, bias=True)\n",
              "            (intermediate_act_fn): GELUActivation()\n",
              "          )\n",
              "          (output): BertOutput(\n",
              "            (dense): Linear(in_features=512, out_features=128, bias=True)\n",
              "            (LayerNorm): LayerNorm((128,), eps=1e-12, elementwise_affine=True)\n",
              "            (dropout): Dropout(p=0.1, inplace=False)\n",
              "          )\n",
              "        )\n",
              "      )\n",
              "    )\n",
              "    (pooler): BertPooler(\n",
              "      (dense): Linear(in_features=128, out_features=128, bias=True)\n",
              "      (activation): Tanh()\n",
              "    )\n",
              "  )\n",
              "  (dropout): Dropout(p=0.1, inplace=False)\n",
              "  (classifier): Linear(in_features=128, out_features=2, bias=True)\n",
              ")"
            ]
          },
          "execution_count": 43,
          "metadata": {},
          "output_type": "execute_result"
        }
      ],
      "source": [
        "device = torch.device('cuda') if torch.cuda.is_available() else torch.device('cpu')\n",
        "model3.to(device)"
      ]
    },
    {
      "cell_type": "code",
      "execution_count": 44,
      "metadata": {},
      "outputs": [
        {
          "name": "stdout",
          "output_type": "stream",
          "text": [
            "EPOCH 1/6...\n",
            "Generation of samples for data cartography...\n",
            "EPOCH 2/6...\n",
            "Generation of samples for data cartography...\n",
            "EPOCH 3/6...\n",
            "Generation of samples for data cartography...\n",
            "EPOCH 4/6...\n",
            "Generation of samples for data cartography...\n",
            "EPOCH 5/6...\n",
            "Generation of samples for data cartography...\n",
            "EPOCH 6/6...\n",
            "Generation of samples for data cartography...\n",
            "EPOCH 1/6...\n",
            "Generation of samples for data cartography...\n",
            "EPOCH 2/6...\n",
            "Generation of samples for data cartography...\n",
            "EPOCH 3/6...\n",
            "Generation of samples for data cartography...\n",
            "EPOCH 4/6...\n",
            "Generation of samples for data cartography...\n",
            "EPOCH 5/6...\n",
            "Generation of samples for data cartography...\n",
            "EPOCH 6/6...\n",
            "Generation of samples for data cartography...\n",
            "EPOCH 1/7...\n",
            "Generation of samples for data cartography...\n",
            "EPOCH 2/7...\n",
            "Generation of samples for data cartography...\n",
            "EPOCH 3/7...\n",
            "Generation of samples for data cartography...\n",
            "EPOCH 4/7...\n",
            "Generation of samples for data cartography...\n",
            "EPOCH 5/7...\n",
            "Generation of samples for data cartography...\n",
            "EPOCH 6/7...\n",
            "Generation of samples for data cartography...\n",
            "EPOCH 7/7...\n",
            "Generation of samples for data cartography...\n",
            "EPOCH 1/7...\n",
            "Generation of samples for data cartography...\n",
            "EPOCH 2/7...\n",
            "Generation of samples for data cartography...\n",
            "EPOCH 3/7...\n",
            "Generation of samples for data cartography...\n",
            "EPOCH 4/7...\n",
            "Generation of samples for data cartography...\n",
            "EPOCH 5/7...\n",
            "Generation of samples for data cartography...\n",
            "EPOCH 6/7...\n",
            "Generation of samples for data cartography...\n",
            "EPOCH 7/7...\n",
            "Generation of samples for data cartography...\n",
            "EPOCH 1/10...\n",
            "Generation of samples for data cartography...\n",
            "EPOCH 2/10...\n",
            "Generation of samples for data cartography...\n",
            "EPOCH 3/10...\n",
            "Generation of samples for data cartography...\n",
            "EPOCH 4/10...\n",
            "Generation of samples for data cartography...\n",
            "EPOCH 5/10...\n",
            "Generation of samples for data cartography...\n",
            "EPOCH 6/10...\n",
            "Generation of samples for data cartography...\n",
            "EPOCH 7/10...\n",
            "Generation of samples for data cartography...\n",
            "EPOCH 8/10...\n",
            "Generation of samples for data cartography...\n",
            "EPOCH 9/10...\n",
            "Generation of samples for data cartography...\n",
            "EPOCH 10/10...\n",
            "Generation of samples for data cartography...\n",
            "EPOCH 1/10...\n",
            "Generation of samples for data cartography...\n",
            "EPOCH 2/10...\n",
            "Generation of samples for data cartography...\n",
            "EPOCH 3/10...\n",
            "Generation of samples for data cartography...\n",
            "EPOCH 4/10...\n",
            "Generation of samples for data cartography...\n",
            "EPOCH 5/10...\n",
            "Generation of samples for data cartography...\n",
            "EPOCH 6/10...\n",
            "Generation of samples for data cartography...\n",
            "EPOCH 7/10...\n",
            "Generation of samples for data cartography...\n",
            "EPOCH 8/10...\n",
            "Generation of samples for data cartography...\n",
            "EPOCH 9/10...\n",
            "Generation of samples for data cartography...\n",
            "EPOCH 10/10...\n",
            "Generation of samples for data cartography...\n",
            "EPOCH 1/15...\n",
            "Generation of samples for data cartography...\n",
            "EPOCH 2/15...\n",
            "Generation of samples for data cartography...\n",
            "EPOCH 3/15...\n",
            "Generation of samples for data cartography...\n",
            "EPOCH 4/15...\n",
            "Generation of samples for data cartography...\n",
            "EPOCH 5/15...\n",
            "Generation of samples for data cartography...\n",
            "EPOCH 6/15...\n",
            "Generation of samples for data cartography...\n",
            "EPOCH 7/15...\n",
            "Generation of samples for data cartography...\n",
            "EPOCH 8/15...\n",
            "Generation of samples for data cartography...\n",
            "EPOCH 9/15...\n",
            "Generation of samples for data cartography...\n",
            "EPOCH 10/15...\n",
            "Generation of samples for data cartography...\n",
            "EPOCH 11/15...\n",
            "Generation of samples for data cartography...\n",
            "EPOCH 12/15...\n",
            "Generation of samples for data cartography...\n",
            "EPOCH 13/15...\n",
            "Generation of samples for data cartography...\n",
            "EPOCH 14/15...\n",
            "Generation of samples for data cartography...\n",
            "EPOCH 15/15...\n",
            "Generation of samples for data cartography...\n",
            "EPOCH 1/15...\n",
            "Generation of samples for data cartography...\n",
            "EPOCH 2/15...\n",
            "Generation of samples for data cartography...\n",
            "EPOCH 3/15...\n",
            "Generation of samples for data cartography...\n",
            "EPOCH 4/15...\n",
            "Generation of samples for data cartography...\n",
            "EPOCH 5/15...\n",
            "Generation of samples for data cartography...\n",
            "EPOCH 6/15...\n",
            "Generation of samples for data cartography...\n",
            "EPOCH 7/15...\n",
            "Generation of samples for data cartography...\n",
            "EPOCH 8/15...\n",
            "Generation of samples for data cartography...\n",
            "EPOCH 9/15...\n",
            "Generation of samples for data cartography...\n",
            "EPOCH 10/15...\n",
            "Generation of samples for data cartography...\n",
            "EPOCH 11/15...\n",
            "Generation of samples for data cartography...\n",
            "EPOCH 12/15...\n",
            "Generation of samples for data cartography...\n",
            "EPOCH 13/15...\n",
            "Generation of samples for data cartography...\n",
            "EPOCH 14/15...\n",
            "Generation of samples for data cartography...\n",
            "EPOCH 15/15...\n",
            "Generation of samples for data cartography...\n",
            "EPOCH 1/30...\n",
            "Generation of samples for data cartography...\n",
            "EPOCH 2/30...\n",
            "Generation of samples for data cartography...\n",
            "EPOCH 3/30...\n",
            "Generation of samples for data cartography...\n",
            "EPOCH 4/30...\n",
            "Generation of samples for data cartography...\n",
            "EPOCH 5/30...\n",
            "Generation of samples for data cartography...\n",
            "EPOCH 6/30...\n",
            "Generation of samples for data cartography...\n",
            "EPOCH 7/30...\n",
            "Generation of samples for data cartography...\n",
            "EPOCH 8/30...\n",
            "Generation of samples for data cartography...\n",
            "EPOCH 9/30...\n",
            "Generation of samples for data cartography...\n",
            "EPOCH 10/30...\n",
            "Generation of samples for data cartography...\n",
            "EPOCH 11/30...\n",
            "Generation of samples for data cartography...\n",
            "EPOCH 12/30...\n",
            "Generation of samples for data cartography...\n",
            "EPOCH 13/30...\n",
            "Generation of samples for data cartography...\n",
            "EPOCH 14/30...\n",
            "Generation of samples for data cartography...\n",
            "EPOCH 15/30...\n",
            "Generation of samples for data cartography...\n",
            "EPOCH 16/30...\n",
            "Generation of samples for data cartography...\n",
            "EPOCH 17/30...\n",
            "Generation of samples for data cartography...\n",
            "EPOCH 18/30...\n",
            "Generation of samples for data cartography...\n",
            "EPOCH 19/30...\n",
            "Generation of samples for data cartography...\n",
            "EPOCH 20/30...\n",
            "Generation of samples for data cartography...\n",
            "EPOCH 21/30...\n",
            "Generation of samples for data cartography...\n",
            "EPOCH 22/30...\n",
            "Generation of samples for data cartography...\n",
            "EPOCH 23/30...\n",
            "Generation of samples for data cartography...\n",
            "EPOCH 24/30...\n",
            "Generation of samples for data cartography...\n",
            "EPOCH 25/30...\n",
            "Generation of samples for data cartography...\n",
            "EPOCH 26/30...\n",
            "Generation of samples for data cartography...\n",
            "EPOCH 27/30...\n",
            "Generation of samples for data cartography...\n",
            "EPOCH 28/30...\n",
            "Generation of samples for data cartography...\n",
            "EPOCH 29/30...\n",
            "Generation of samples for data cartography...\n",
            "EPOCH 30/30...\n",
            "Generation of samples for data cartography...\n",
            "EPOCH 1/30...\n",
            "Generation of samples for data cartography...\n",
            "EPOCH 2/30...\n",
            "Generation of samples for data cartography...\n",
            "EPOCH 3/30...\n",
            "Generation of samples for data cartography...\n",
            "EPOCH 4/30...\n",
            "Generation of samples for data cartography...\n",
            "EPOCH 5/30...\n",
            "Generation of samples for data cartography...\n",
            "EPOCH 6/30...\n",
            "Generation of samples for data cartography...\n",
            "EPOCH 7/30...\n",
            "Generation of samples for data cartography...\n",
            "EPOCH 8/30...\n",
            "Generation of samples for data cartography...\n",
            "EPOCH 9/30...\n",
            "Generation of samples for data cartography...\n",
            "EPOCH 10/30...\n",
            "Generation of samples for data cartography...\n",
            "EPOCH 11/30...\n",
            "Generation of samples for data cartography...\n",
            "EPOCH 12/30...\n",
            "Generation of samples for data cartography...\n",
            "EPOCH 13/30...\n",
            "Generation of samples for data cartography...\n",
            "EPOCH 14/30...\n",
            "Generation of samples for data cartography...\n",
            "EPOCH 15/30...\n",
            "Generation of samples for data cartography...\n",
            "EPOCH 16/30...\n",
            "Generation of samples for data cartography...\n",
            "EPOCH 17/30...\n",
            "Generation of samples for data cartography...\n",
            "EPOCH 18/30...\n",
            "Generation of samples for data cartography...\n",
            "EPOCH 19/30...\n",
            "Generation of samples for data cartography...\n",
            "EPOCH 20/30...\n",
            "Generation of samples for data cartography...\n",
            "EPOCH 21/30...\n",
            "Generation of samples for data cartography...\n",
            "EPOCH 22/30...\n",
            "Generation of samples for data cartography...\n",
            "EPOCH 23/30...\n",
            "Generation of samples for data cartography...\n",
            "EPOCH 24/30...\n",
            "Generation of samples for data cartography...\n",
            "EPOCH 25/30...\n",
            "Generation of samples for data cartography...\n",
            "EPOCH 26/30...\n",
            "Generation of samples for data cartography...\n",
            "EPOCH 27/30...\n",
            "Generation of samples for data cartography...\n",
            "EPOCH 28/30...\n",
            "Generation of samples for data cartography...\n",
            "EPOCH 29/30...\n",
            "Generation of samples for data cartography...\n",
            "EPOCH 30/30...\n",
            "Generation of samples for data cartography...\n"
          ]
        }
      ],
      "source": [
        "history3 = []\n",
        "train_dyn3 = {}\n",
        "for i,loader in enumerate(loaders_curriculum):\n",
        "    history3.extend(trainer_TC(model3, device, optimizer, loss_fn, loader, EPOCHS//((11-i)//2), train_dyn3))"
      ]
    },
    {
      "cell_type": "code",
      "execution_count": 45,
      "metadata": {},
      "outputs": [
        {
          "data": {
            "image/png": "[encoded data removed]",
            "text/plain": [
              "<Figure size 640x480 with 1 Axes>"
            ]
          },
          "metadata": {},
          "output_type": "display_data"
        }
      ],
      "source": [
        "plt.plot(history, c='r')\n",
        "plt.plot(history2, c='b')\n",
        "plt.plot(history3, c='g')\n",
        "plt.legend(['normal', 'curriculum', 'curriculum_aug'])\n",
        "plt.title(\"Learning error with augmented, curriculum-trained model\")\n",
        "plt.grid(True)\n",
        "plt.show();"
      ]
    },
    {
      "cell_type": "code",
      "execution_count": 46,
      "metadata": {},
      "outputs": [
        {
          "name": "stdout",
          "output_type": "stream",
          "text": [
            "              precision    recall  f1-score   support\n",
            "\n",
            "           F       0.92      0.89      0.90       477\n",
            "           L       0.82      0.78      0.80       263\n",
            "\n",
            "   micro avg       0.88      0.85      0.86       740\n",
            "   macro avg       0.87      0.83      0.85       740\n",
            "weighted avg       0.88      0.85      0.86       740\n",
            " samples avg       0.88      0.86      0.87       740\n",
            "\n"
          ]
        }
      ],
      "source": [
        "results3 = evaluation_run(model3, test_loader, device)\n",
        "results3 = pd.DataFrame(results3, columns=labels)\n",
        "print(classification_report(p_test[labels], results3, target_names=labels, zero_division=0.0))"
      ]
    },
    {
      "cell_type": "markdown",
      "metadata": {},
      "source": [
        "## Section 9 - Model with only Data Augmentation"
      ]
    },
    {
      "cell_type": "code",
      "execution_count": 37,
      "metadata": {},
      "outputs": [
        {
          "name": "stderr",
          "output_type": "stream",
          "text": [
            "Some weights of BertForSequenceClassification were not initialized from the model checkpoint at prajjwal1/bert-tiny and are newly initialized: ['classifier.weight', 'classifier.bias']\n",
            "You should probably TRAIN this model on a down-stream task to be able to use it for predictions and inference.\n"
          ]
        }
      ],
      "source": [
        "model4 = AutoModelForSequenceClassification.from_pretrained(CARD, num_labels = len(labels), problem_type='multi_label_classification')\n",
        "for param in model4.bert.embeddings.parameters(): # We don't want to train the first layer\n",
        "    param.requires_grad = False\n",
        "optimizer = torch.optim.AdamW(model4.parameters(), lr=LEARNING_RATE, weight_decay=1e-5)\n",
        "optimizer.zero_grad()\n",
        "loss_fn = torch.nn.BCEWithLogitsLoss()"
      ]
    },
    {
      "cell_type": "code",
      "execution_count": 38,
      "metadata": {},
      "outputs": [],
      "source": [
        "dataset_aug = Sentences_Dataset(premises, tokenizer, labels, max_len=MAX_LEN)\n",
        "loader_aug = DataLoader(dataset_aug, batch_size=TRAIN_BATCH_SIZE, shuffle=True, pin_memory=True)"
      ]
    },
    {
      "cell_type": "code",
      "execution_count": 39,
      "metadata": {},
      "outputs": [
        {
          "name": "stdout",
          "output_type": "stream",
          "text": [
            "EPOCH 1/90...\n",
            "Generation of samples for data cartography...\n",
            "EPOCH 2/90...\n",
            "Generation of samples for data cartography...\n",
            "EPOCH 3/90...\n",
            "Generation of samples for data cartography...\n",
            "EPOCH 4/90...\n",
            "Generation of samples for data cartography...\n",
            "EPOCH 5/90...\n",
            "Generation of samples for data cartography...\n",
            "EPOCH 6/90...\n",
            "Generation of samples for data cartography...\n",
            "EPOCH 7/90...\n",
            "Generation of samples for data cartography...\n",
            "EPOCH 8/90...\n",
            "Generation of samples for data cartography...\n",
            "EPOCH 9/90...\n",
            "Generation of samples for data cartography...\n",
            "EPOCH 10/90...\n",
            "Generation of samples for data cartography...\n",
            "EPOCH 11/90...\n",
            "Generation of samples for data cartography...\n",
            "EPOCH 12/90...\n",
            "Generation of samples for data cartography...\n",
            "EPOCH 13/90...\n",
            "Generation of samples for data cartography...\n",
            "EPOCH 14/90...\n",
            "Generation of samples for data cartography...\n",
            "EPOCH 15/90...\n",
            "Generation of samples for data cartography...\n",
            "EPOCH 16/90...\n",
            "Generation of samples for data cartography...\n",
            "EPOCH 17/90...\n",
            "Generation of samples for data cartography...\n",
            "EPOCH 18/90...\n",
            "Generation of samples for data cartography...\n",
            "EPOCH 19/90...\n",
            "Generation of samples for data cartography...\n",
            "EPOCH 20/90...\n",
            "Generation of samples for data cartography...\n",
            "EPOCH 21/90...\n",
            "Generation of samples for data cartography...\n",
            "EPOCH 22/90...\n",
            "Generation of samples for data cartography...\n",
            "EPOCH 23/90...\n",
            "Generation of samples for data cartography...\n",
            "EPOCH 24/90...\n",
            "Generation of samples for data cartography...\n",
            "EPOCH 25/90...\n",
            "Generation of samples for data cartography...\n",
            "EPOCH 26/90...\n",
            "Generation of samples for data cartography...\n",
            "EPOCH 27/90...\n",
            "Generation of samples for data cartography...\n",
            "EPOCH 28/90...\n",
            "Generation of samples for data cartography...\n",
            "EPOCH 29/90...\n",
            "Generation of samples for data cartography...\n",
            "EPOCH 30/90...\n",
            "Generation of samples for data cartography...\n",
            "EPOCH 31/90...\n",
            "Generation of samples for data cartography...\n",
            "EPOCH 32/90...\n",
            "Generation of samples for data cartography...\n",
            "EPOCH 33/90...\n",
            "Generation of samples for data cartography...\n",
            "EPOCH 34/90...\n",
            "Generation of samples for data cartography...\n",
            "EPOCH 35/90...\n",
            "Generation of samples for data cartography...\n",
            "EPOCH 36/90...\n",
            "Generation of samples for data cartography...\n",
            "EPOCH 37/90...\n",
            "Generation of samples for data cartography...\n",
            "EPOCH 38/90...\n",
            "Generation of samples for data cartography...\n",
            "EPOCH 39/90...\n",
            "Generation of samples for data cartography...\n",
            "EPOCH 40/90...\n",
            "Generation of samples for data cartography...\n",
            "EPOCH 41/90...\n",
            "Generation of samples for data cartography...\n",
            "EPOCH 42/90...\n",
            "Generation of samples for data cartography...\n",
            "EPOCH 43/90...\n",
            "Generation of samples for data cartography...\n",
            "EPOCH 44/90...\n",
            "Generation of samples for data cartography...\n",
            "EPOCH 45/90...\n",
            "Generation of samples for data cartography...\n",
            "EPOCH 46/90...\n",
            "Generation of samples for data cartography...\n",
            "EPOCH 47/90...\n",
            "Generation of samples for data cartography...\n",
            "EPOCH 48/90...\n",
            "Generation of samples for data cartography...\n",
            "EPOCH 49/90...\n",
            "Generation of samples for data cartography...\n",
            "EPOCH 50/90...\n",
            "Generation of samples for data cartography...\n",
            "EPOCH 51/90...\n",
            "Generation of samples for data cartography...\n",
            "EPOCH 52/90...\n",
            "Generation of samples for data cartography...\n",
            "EPOCH 53/90...\n",
            "Generation of samples for data cartography...\n",
            "EPOCH 54/90...\n",
            "Generation of samples for data cartography...\n",
            "EPOCH 55/90...\n",
            "Generation of samples for data cartography...\n",
            "EPOCH 56/90...\n",
            "Generation of samples for data cartography...\n",
            "EPOCH 57/90...\n",
            "Generation of samples for data cartography...\n",
            "EPOCH 58/90...\n",
            "Generation of samples for data cartography...\n",
            "EPOCH 59/90...\n",
            "Generation of samples for data cartography...\n",
            "EPOCH 60/90...\n",
            "Generation of samples for data cartography...\n",
            "EPOCH 61/90...\n",
            "Generation of samples for data cartography...\n",
            "EPOCH 62/90...\n",
            "Generation of samples for data cartography...\n",
            "EPOCH 63/90...\n",
            "Generation of samples for data cartography...\n",
            "EPOCH 64/90...\n",
            "Generation of samples for data cartography...\n",
            "EPOCH 65/90...\n",
            "Generation of samples for data cartography...\n",
            "EPOCH 66/90...\n",
            "Generation of samples for data cartography...\n",
            "EPOCH 67/90...\n",
            "Generation of samples for data cartography...\n",
            "EPOCH 68/90...\n",
            "Generation of samples for data cartography...\n",
            "EPOCH 69/90...\n",
            "Generation of samples for data cartography...\n",
            "EPOCH 70/90...\n",
            "Generation of samples for data cartography...\n",
            "EPOCH 71/90...\n",
            "Generation of samples for data cartography...\n",
            "EPOCH 72/90...\n",
            "Generation of samples for data cartography...\n",
            "EPOCH 73/90...\n",
            "Generation of samples for data cartography...\n",
            "EPOCH 74/90...\n",
            "Generation of samples for data cartography...\n",
            "EPOCH 75/90...\n",
            "Generation of samples for data cartography...\n",
            "EPOCH 76/90...\n",
            "Generation of samples for data cartography...\n",
            "EPOCH 77/90...\n",
            "Generation of samples for data cartography...\n",
            "EPOCH 78/90...\n",
            "Generation of samples for data cartography...\n",
            "EPOCH 79/90...\n",
            "Generation of samples for data cartography...\n",
            "EPOCH 80/90...\n",
            "Generation of samples for data cartography...\n",
            "EPOCH 81/90...\n",
            "Generation of samples for data cartography...\n",
            "EPOCH 82/90...\n",
            "Generation of samples for data cartography...\n",
            "EPOCH 83/90...\n",
            "Generation of samples for data cartography...\n",
            "EPOCH 84/90...\n",
            "Generation of samples for data cartography...\n",
            "EPOCH 85/90...\n",
            "Generation of samples for data cartography...\n",
            "EPOCH 86/90...\n",
            "Generation of samples for data cartography...\n",
            "EPOCH 87/90...\n",
            "Generation of samples for data cartography...\n",
            "EPOCH 88/90...\n",
            "Generation of samples for data cartography...\n",
            "EPOCH 89/90...\n",
            "Generation of samples for data cartography...\n",
            "EPOCH 90/90...\n",
            "Generation of samples for data cartography...\n"
          ]
        }
      ],
      "source": [
        "train_dyn4 = {}\n",
        "history4 = trainer_TC(model4, device, optimizer, loss_fn, loader, EPOCHS*3, train_dyn4)"
      ]
    },
    {
      "cell_type": "code",
      "execution_count": 47,
      "metadata": {},
      "outputs": [
        {
          "data": {
            "image/png": "[encoded data removed]",
            "text/plain": [
              "<Figure size 640x480 with 1 Axes>"
            ]
          },
          "metadata": {},
          "output_type": "display_data"
        }
      ],
      "source": [
        "plt.plot(history, c='r')\n",
        "plt.plot(history2, c='b')\n",
        "plt.plot(history3, c='g')\n",
        "plt.plot(history4, c='y')\n",
        "plt.legend(['normal', 'curriculum', 'curriculum_aug', 'augmented'])\n",
        "plt.title(\"Learning error with augmented model\")\n",
        "plt.grid(True)\n",
        "plt.show();"
      ]
    },
    {
      "cell_type": "code",
      "execution_count": 41,
      "metadata": {},
      "outputs": [
        {
          "name": "stdout",
          "output_type": "stream",
          "text": [
            "              precision    recall  f1-score   support\n",
            "\n",
            "           F       0.91      0.90      0.91       477\n",
            "           L       0.84      0.77      0.80       263\n",
            "\n",
            "   micro avg       0.89      0.85      0.87       740\n",
            "   macro avg       0.87      0.84      0.85       740\n",
            "weighted avg       0.89      0.85      0.87       740\n",
            " samples avg       0.89      0.87      0.87       740\n",
            "\n"
          ]
        }
      ],
      "source": [
        "results4 = evaluation_run(model4, test_loader, device)\n",
        "results4 = pd.DataFrame(results4, columns=labels)\n",
        "print(classification_report(p_test[labels], results4, target_names=labels, zero_division=0.0))"
      ]
    }
  ],
  "metadata": {
    "accelerator": "GPU",
    "colab": {
      "gpuType": "T4",
      "provenance": []
    },
    "kernelspec": {
      "display_name": "Python 3",
      "name": "python3"
    },
    "language_info": {
      "codemirror_mode": {
        "name": "ipython",
        "version": 3
      },
      "file_extension": ".py",
      "mimetype": "text/x-python",
      "name": "python",
      "nbconvert_exporter": "python",
      "pygments_lexer": "ipython3",
      "version": "3.11.5"
    },
    "widgets": {
      "application/vnd.jupyter.widget-state+json": {
        "064368a307a9474eb37e65b68a9cf7ad": {
          "model_module": "@jupyter-widgets/controls",
          "model_module_version": "1.5.0",
          "model_name": "HTMLModel",
          "state": {
            "_dom_classes": [],
            "_model_module": "@jupyter-widgets/controls",
            "_model_module_version": "1.5.0",
            "_model_name": "HTMLModel",
            "_view_count": null,
            "_view_module": "@jupyter-widgets/controls",
            "_view_module_version": "1.5.0",
            "_view_name": "HTMLView",
            "description": "",
            "description_tooltip": null,
            "layout": "IPY_MODEL_999ba349947742029ab24d3f2847f4b7",
            "placeholder": "​",
            "style": "IPY_MODEL_55fe91c6c4e94199ad866a122d6db9aa",
            "value": " 17.8M/17.8M [00:00&lt;00:00, 22.2MB/s]"
          }
        },
        "2f11f8189b2147ffaaf139efd297e5ad": {
          "model_module": "@jupyter-widgets/controls",
          "model_module_version": "1.5.0",
          "model_name": "HTMLModel",
          "state": {
            "_dom_classes": [],
            "_model_module": "@jupyter-widgets/controls",
            "_model_module_version": "1.5.0",
            "_model_name": "HTMLModel",
            "_view_count": null,
            "_view_module": "@jupyter-widgets/controls",
            "_view_module_version": "1.5.0",
            "_view_name": "HTMLView",
            "description": "",
            "description_tooltip": null,
            "layout": "IPY_MODEL_3014ef31f3654fd8bc73f26143a6b6f9",
            "placeholder": "​",
            "style": "IPY_MODEL_e012e5c8531b43689de87630f61dde94",
            "value": "pytorch_model.bin: 100%"
          }
        },
        "3014ef31f3654fd8bc73f26143a6b6f9": {
          "model_module": "@jupyter-widgets/base",
          "model_module_version": "1.2.0",
          "model_name": "LayoutModel",
          "state": {
            "_model_module": "@jupyter-widgets/base",
            "_model_module_version": "1.2.0",
            "_model_name": "LayoutModel",
            "_view_count": null,
            "_view_module": "@jupyter-widgets/base",
            "_view_module_version": "1.2.0",
            "_view_name": "LayoutView",
            "align_content": null,
            "align_items": null,
            "align_self": null,
            "border": null,
            "bottom": null,
            "display": null,
            "flex": null,
            "flex_flow": null,
            "grid_area": null,
            "grid_auto_columns": null,
            "grid_auto_flow": null,
            "grid_auto_rows": null,
            "grid_column": null,
            "grid_gap": null,
            "grid_row": null,
            "grid_template_areas": null,
            "grid_template_columns": null,
            "grid_template_rows": null,
            "height": null,
            "justify_content": null,
            "justify_items": null,
            "left": null,
            "margin": null,
            "max_height": null,
            "max_width": null,
            "min_height": null,
            "min_width": null,
            "object_fit": null,
            "object_position": null,
            "order": null,
            "overflow": null,
            "overflow_x": null,
            "overflow_y": null,
            "padding": null,
            "right": null,
            "top": null,
            "visibility": null,
            "width": null
          }
        },
        "4bb47420eac141de853a7a42968df9f5": {
          "model_module": "@jupyter-widgets/controls",
          "model_module_version": "1.5.0",
          "model_name": "ProgressStyleModel",
          "state": {
            "_model_module": "@jupyter-widgets/controls",
            "_model_module_version": "1.5.0",
            "_model_name": "ProgressStyleModel",
            "_view_count": null,
            "_view_module": "@jupyter-widgets/base",
            "_view_module_version": "1.2.0",
            "_view_name": "StyleView",
            "bar_color": null,
            "description_width": ""
          }
        },
        "55fe91c6c4e94199ad866a122d6db9aa": {
          "model_module": "@jupyter-widgets/controls",
          "model_module_version": "1.5.0",
          "model_name": "DescriptionStyleModel",
          "state": {
            "_model_module": "@jupyter-widgets/controls",
            "_model_module_version": "1.5.0",
            "_model_name": "DescriptionStyleModel",
            "_view_count": null,
            "_view_module": "@jupyter-widgets/base",
            "_view_module_version": "1.2.0",
            "_view_name": "StyleView",
            "description_width": ""
          }
        },
        "7dc1fb31de9c46578e335f8c78620d6f": {
          "model_module": "@jupyter-widgets/controls",
          "model_module_version": "1.5.0",
          "model_name": "HBoxModel",
          "state": {
            "_dom_classes": [],
            "_model_module": "@jupyter-widgets/controls",
            "_model_module_version": "1.5.0",
            "_model_name": "HBoxModel",
            "_view_count": null,
            "_view_module": "@jupyter-widgets/controls",
            "_view_module_version": "1.5.0",
            "_view_name": "HBoxView",
            "box_style": "",
            "children": [
              "IPY_MODEL_2f11f8189b2147ffaaf139efd297e5ad",
              "IPY_MODEL_838389f6886446b0bada3aa7df41ce4d",
              "IPY_MODEL_064368a307a9474eb37e65b68a9cf7ad"
            ],
            "layout": "IPY_MODEL_af4eb009160d4b0fad2410473baf1739"
          }
        },
        "838389f6886446b0bada3aa7df41ce4d": {
          "model_module": "@jupyter-widgets/controls",
          "model_module_version": "1.5.0",
          "model_name": "FloatProgressModel",
          "state": {
            "_dom_classes": [],
            "_model_module": "@jupyter-widgets/controls",
            "_model_module_version": "1.5.0",
            "_model_name": "FloatProgressModel",
            "_view_count": null,
            "_view_module": "@jupyter-widgets/controls",
            "_view_module_version": "1.5.0",
            "_view_name": "ProgressView",
            "bar_style": "success",
            "description": "",
            "description_tooltip": null,
            "layout": "IPY_MODEL_ad74857b48d3414facbbb5d300291d32",
            "max": 17756393,
            "min": 0,
            "orientation": "horizontal",
            "style": "IPY_MODEL_4bb47420eac141de853a7a42968df9f5",
            "value": 17756393
          }
        },
        "999ba349947742029ab24d3f2847f4b7": {
          "model_module": "@jupyter-widgets/base",
          "model_module_version": "1.2.0",
          "model_name": "LayoutModel",
          "state": {
            "_model_module": "@jupyter-widgets/base",
            "_model_module_version": "1.2.0",
            "_model_name": "LayoutModel",
            "_view_count": null,
            "_view_module": "@jupyter-widgets/base",
            "_view_module_version": "1.2.0",
            "_view_name": "LayoutView",
            "align_content": null,
            "align_items": null,
            "align_self": null,
            "border": null,
            "bottom": null,
            "display": null,
            "flex": null,
            "flex_flow": null,
            "grid_area": null,
            "grid_auto_columns": null,
            "grid_auto_flow": null,
            "grid_auto_rows": null,
            "grid_column": null,
            "grid_gap": null,
            "grid_row": null,
            "grid_template_areas": null,
            "grid_template_columns": null,
            "grid_template_rows": null,
            "height": null,
            "justify_content": null,
            "justify_items": null,
            "left": null,
            "margin": null,
            "max_height": null,
            "max_width": null,
            "min_height": null,
            "min_width": null,
            "object_fit": null,
            "object_position": null,
            "order": null,
            "overflow": null,
            "overflow_x": null,
            "overflow_y": null,
            "padding": null,
            "right": null,
            "top": null,
            "visibility": null,
            "width": null
          }
        },
        "ad74857b48d3414facbbb5d300291d32": {
          "model_module": "@jupyter-widgets/base",
          "model_module_version": "1.2.0",
          "model_name": "LayoutModel",
          "state": {
            "_model_module": "@jupyter-widgets/base",
            "_model_module_version": "1.2.0",
            "_model_name": "LayoutModel",
            "_view_count": null,
            "_view_module": "@jupyter-widgets/base",
            "_view_module_version": "1.2.0",
            "_view_name": "LayoutView",
            "align_content": null,
            "align_items": null,
            "align_self": null,
            "border": null,
            "bottom": null,
            "display": null,
            "flex": null,
            "flex_flow": null,
            "grid_area": null,
            "grid_auto_columns": null,
            "grid_auto_flow": null,
            "grid_auto_rows": null,
            "grid_column": null,
            "grid_gap": null,
            "grid_row": null,
            "grid_template_areas": null,
            "grid_template_columns": null,
            "grid_template_rows": null,
            "height": null,
            "justify_content": null,
            "justify_items": null,
            "left": null,
            "margin": null,
            "max_height": null,
            "max_width": null,
            "min_height": null,
            "min_width": null,
            "object_fit": null,
            "object_position": null,
            "order": null,
            "overflow": null,
            "overflow_x": null,
            "overflow_y": null,
            "padding": null,
            "right": null,
            "top": null,
            "visibility": null,
            "width": null
          }
        },
        "af4eb009160d4b0fad2410473baf1739": {
          "model_module": "@jupyter-widgets/base",
          "model_module_version": "1.2.0",
          "model_name": "LayoutModel",
          "state": {
            "_model_module": "@jupyter-widgets/base",
            "_model_module_version": "1.2.0",
            "_model_name": "LayoutModel",
            "_view_count": null,
            "_view_module": "@jupyter-widgets/base",
            "_view_module_version": "1.2.0",
            "_view_name": "LayoutView",
            "align_content": null,
            "align_items": null,
            "align_self": null,
            "border": null,
            "bottom": null,
            "display": null,
            "flex": null,
            "flex_flow": null,
            "grid_area": null,
            "grid_auto_columns": null,
            "grid_auto_flow": null,
            "grid_auto_rows": null,
            "grid_column": null,
            "grid_gap": null,
            "grid_row": null,
            "grid_template_areas": null,
            "grid_template_columns": null,
            "grid_template_rows": null,
            "height": null,
            "justify_content": null,
            "justify_items": null,
            "left": null,
            "margin": null,
            "max_height": null,
            "max_width": null,
            "min_height": null,
            "min_width": null,
            "object_fit": null,
            "object_position": null,
            "order": null,
            "overflow": null,
            "overflow_x": null,
            "overflow_y": null,
            "padding": null,
            "right": null,
            "top": null,
            "visibility": null,
            "width": null
          }
        },
        "e012e5c8531b43689de87630f61dde94": {
          "model_module": "@jupyter-widgets/controls",
          "model_module_version": "1.5.0",
          "model_name": "DescriptionStyleModel",
          "state": {
            "_model_module": "@jupyter-widgets/controls",
            "_model_module_version": "1.5.0",
            "_model_name": "DescriptionStyleModel",
            "_view_count": null,
            "_view_module": "@jupyter-widgets/base",
            "_view_module_version": "1.2.0",
            "_view_name": "StyleView",
            "description_width": ""
          }
        }
      }
    }
  },
  "nbformat": 4,
  "nbformat_minor": 0
}
